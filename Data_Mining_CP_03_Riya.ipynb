{
  "nbformat": 4,
  "nbformat_minor": 0,
  "metadata": {
    "colab": {
      "provenance": [],
      "collapsed_sections": [
        "URPgyUhJKYuS",
        "-So7KjFLmON9",
        "F9xaWO7mmpqf",
        "j9-P2ygbKLzV",
        "rzRwHn13kMwc",
        "pos0Qsqhmyak",
        "Xnii2DfI1vCx",
        "BtXg67TU16xg",
        "YyiYKHHq16xh",
        "aPr2qKC_16xi",
        "14GqHeTa16xj",
        "y1EoSA1e7Ekr",
        "3pEmXoV08VJy",
        "b-jspcLK8VJz",
        "iAb-wHgN8VJ0",
        "cO-kzxoN8VJ1",
        "bH9TA4Hg6dKQ",
        "Vr5ODZ2Z6qTR",
        "vEnbS6CQ6qTS",
        "V9Lvt1To6qTT",
        "mPFe8Ao56qTT"
      ],
      "include_colab_link": true
    },
    "kernelspec": {
      "name": "python3",
      "display_name": "Python 3"
    },
    "language_info": {
      "name": "python"
    }
  },
  "cells": [
    {
      "cell_type": "markdown",
      "metadata": {
        "id": "view-in-github",
        "colab_type": "text"
      },
      "source": [
        "<a href=\"https://colab.research.google.com/github/Chinmaya54/DM_Challenge_WC_Winner/blob/Riya/Data_Mining_CP_03_Riya.ipynb\" target=\"_parent\"><img src=\"https://colab.research.google.com/assets/colab-badge.svg\" alt=\"Open In Colab\"/></a>"
      ]
    },
    {
      "cell_type": "markdown",
      "source": [
        "#**TASK**\n",
        "\n",
        "**Player historic dataset :** https://www.kaggle.com/datasets/abhi211b/icc-cricket-world-cup-2023-prediction-statistics\n",
        "\n",
        "**Related to BATSMAN**\n",
        "- Predicting the batsman who will score most runs.\n",
        "- Predicting the batsman who will hit most sixes.\n",
        "- Predicting the batsman who will make the most centuries in the tournament.\n",
        "\n",
        "**Related to BOWLER**\n",
        "- Predicting the bowler who will be the leading wicket-taker in the tournament.\n",
        "\n",
        "**Related to INDIVIDUAL player**\n",
        "- Predicting the number of sixes/boundaries/5-wicket hauls/hundreds in this tournament for an individual player or team.\n",
        "\n",
        "**Related to MATCH**\n",
        "- Predicting what to choose on winning the toss in finals\n"
      ],
      "metadata": {
        "id": "8q29ZLtQTijZ"
      }
    },
    {
      "cell_type": "markdown",
      "source": [
        "**General statistics**\n",
        "\n",
        "1. Matches (Mat/M/Mts): Number of matches played. (also Played (Pl).)\n",
        "\n",
        "Catches (Ct): Number of catches taken.\n",
        "\n",
        "Stumpings (St): Number of stumpings made (as a wicket-keeper).\n",
        "\n",
        "**Batting statistics**\n",
        "\n",
        "1. Innings (I): The number of innings in which the batsman actually batted.\n",
        "\n",
        "1) Not outs (NO): The number of times the batsman was not out at the conclusion of an innings they batted in.1\n",
        "\n",
        "2) Runs (R): The number of runs scored.\n",
        "\n",
        "3) 4's: The number of 4's the batsmen has scored.\n",
        "\n",
        "4) 6's: The number of 6's the batsmen has scored.\n",
        "\n",
        "5) Highest score (HS/Best): The highest score ever made by the batsman.\n",
        "\n",
        "6) Batting average (Ave): The total number of runs divided by the total number of innings in which the batsman was out. Ave = Runs/[I – NO] (also Avge or Avg.)\n",
        "\n",
        "7) Centuries (100): The number of innings in which the batsman scored one hundred runs or more.\n",
        "\n",
        "8) Half-centuries (50): The number of innings in which the batsman scored fifty to ninety-nine runs (centuries do not count as half-centuries as well).\n",
        "\n",
        "9) Balls faced (BF or B): The total number of balls received, including no-balls but not including wides.\n",
        "\n",
        "10) Strike rate (SR): The average number of runs scored per 100 balls faced. (SR = [100 * Runs]/BF)\n",
        "\n",
        "11) Run rate (RR): The average number of runs a batsman (or the batting side) scores in an over of 6 balls.\n",
        "\n",
        "12) Net run rate (NRR): A method of ranking teams with equal points in limited overs league competitions.\n",
        "\n",
        "13) Runs Per Wicket Ratio (RpW ratio): The number of runs scored per wicket lost, divided by the number of runs conceded per wicket taken. It is a method of ranking teams with equal points in the league table of the World Test Championship.\n",
        "\n",
        "**Bowling statistics**\n",
        "\n",
        "1. Overs (O or OV): The number of overs bowled. The notation is (x.y), meaning x completed overs plus y legal balls in the current over have been bowled.\n",
        "\n",
        "1) Balls (B): The number of balls bowled. Overs is more traditional, but balls is a more useful statistic because the number of balls per over has varied historically (and even within a single match, can vary due to umpire miscounting[4]).\n",
        "\n",
        "2) Maiden overs (M): The number of maiden overs (overs in which the bowler conceded zero runs) bowled.\n",
        "\n",
        "3) Runs (R): The number of runs conceded.\n",
        "\n",
        "4) Wickets (W): The number of wickets taken.\n",
        "\n",
        "5) Bowling analysis (BA or OMRW): A shorthand notation consisting of a bowler's Overs, Maidens, Runs conceded and Wickets taken (in that order), usually for a single innings but sometimes for other periods. For example, an analysis of 10–3–27–2 would indicate that the player bowled ten overs, of which three were maidens, conceded 27 runs and took two wickets.\n",
        "\n",
        "6) No-balls (Nb): The number of no-balls bowled.\n",
        "\n",
        "7) Wides (Wd): The number of wides bowled.\n",
        "\n",
        "8) Bowling average (Ave): The average number of runs conceded per wicket. (Ave = Runs/W)\n",
        "\n",
        "9) Strike rate (SR): The average number of balls bowled per wicket taken. (SR = Balls/W)\n",
        "\n",
        "10) Economy rate (Econ): The average number of runs conceded per over. (Econ = Runs/Overs bowled).\n",
        "\n",
        "11) Best bowling (BB): The bowler's best bowling performance, defined as firstly the greatest number of wickets, secondly the fewest runs conceded for that number of wickets. (Thus, a performance of 7 for 102 is considered better than one of 6 for 19.)\n",
        "- BBI stands for Best Bowling in Innings and only gives the score for one innings. (If only the BB rate is given it's considered the BBI rate.)\n",
        "- BBM stands for Best Bowling in Match and gives the combined score over 2 or more innings in one match. (For limited-overs matches with one innings per side, this score is equal to the BBI or BB.)\n",
        "\n",
        "12) Five wickets in an innings (5w): The number of innings in which the bowler took at least five wickets. Four wickets in an innings (4w), the number of innings in which the bowler took exactly four wickets, is sometimes recorded alongside five wickets, especially in limited overs cricket.\n",
        "\n",
        "13) Ten wickets in a match (10w): The number of matches in which the bowler took at least ten wickets; recorded for Tests and first-class matches only."
      ],
      "metadata": {
        "id": "rQ8-NQUpDeCD"
      }
    },
    {
      "cell_type": "markdown",
      "source": [
        "#Importing Data"
      ],
      "metadata": {
        "id": "URPgyUhJKYuS"
      }
    },
    {
      "cell_type": "code",
      "execution_count": 2,
      "metadata": {
        "colab": {
          "base_uri": "https://localhost:8080/"
        },
        "id": "vvks7xazUtMh",
        "outputId": "5a906c7f-c5d4-45d4-9c6b-f9bdfe98f9b8"
      },
      "outputs": [
        {
          "output_type": "stream",
          "name": "stdout",
          "text": [
            "Mounted at /content/drive\n"
          ]
        }
      ],
      "source": [
        "# Mounting Google drive to fetch dataset\n",
        "from google.colab import drive\n",
        "drive.mount('/content/drive')"
      ]
    },
    {
      "cell_type": "code",
      "source": [
        "import pandas as pd"
      ],
      "metadata": {
        "id": "0wfqNpO5Wfqm"
      },
      "execution_count": 3,
      "outputs": []
    },
    {
      "cell_type": "code",
      "source": [
        "df = pd.read_csv('/content/drive/MyDrive/Players Stat.csv')"
      ],
      "metadata": {
        "id": "emiXruyhWWdL"
      },
      "execution_count": 26,
      "outputs": []
    },
    {
      "cell_type": "code",
      "source": [
        "pd.set_option('display.max_columns', None)\n",
        "pd.set_option('display.expand_frame_repr',False)"
      ],
      "metadata": {
        "id": "q1jA6BaBX1mC"
      },
      "execution_count": 27,
      "outputs": []
    },
    {
      "cell_type": "code",
      "source": [
        "df.head()"
      ],
      "metadata": {
        "colab": {
          "base_uri": "https://localhost:8080/",
          "height": 379
        },
        "id": "EDjLvE1qXhp3",
        "outputId": "b2d9f85e-cbb1-4d87-c9d3-912b363ff0c0"
      },
      "execution_count": 28,
      "outputs": [
        {
          "output_type": "execute_result",
          "data": {
            "text/plain": [
              "                      Id         Team               Type       Career        Context  Span        Mat  Inns   HS      BF   SR   100s  50s 0s  4s  6s   Avg  NO Overs Mdns Runs Wkts Econ 4w  5w  10w BBI BBM\n",
              "0  hashmatullah shahidi   Afghanistan   Top order Batter  2013 - 2023       overview     0  2018-2023     6  375   53.57  833  45.01    0  1   0  46  200*  12     0    0    5    0    0  0   0    0   0   0\n",
              "1  hashmatullah shahidi   Afghanistan   Top order Batter  2013 - 2023  vs Bangladesh     0  2019-2023     2   48   16.00   99  48.48    0  0   0   7    14   4     0    0    1    0    0  0   0    0   0   0\n",
              "2  hashmatullah shahidi   Afghanistan   Top order Batter  2013 - 2023       vs India     0  2018-2018     1   47   47.00  112  41.96    0  0   0   8   36*   2     0    0    1    0    0  0   0    0   0   0\n",
              "3  hashmatullah shahidi   Afghanistan   Top order Batter  2013 - 2023     vs Ireland     0  2019-2019     1   65   65.00  155  41.93    0  1   0   7    61   2     0    0    1    0    0  0   0    0   0   0\n",
              "4  hashmatullah shahidi   Afghanistan   Top order Batter  2013 - 2023    vs Zimbabwe     0  2021-2021     2  215  107.50  467  46.03    0  0   0  24  200*   4     0    0    2    0    0  0   0    0   0   0"
            ],
            "text/html": [
              "\n",
              "  <div id=\"df-e0f06ac5-9d3d-42cb-bce6-19113d15ca46\" class=\"colab-df-container\">\n",
              "    <div>\n",
              "<style scoped>\n",
              "    .dataframe tbody tr th:only-of-type {\n",
              "        vertical-align: middle;\n",
              "    }\n",
              "\n",
              "    .dataframe tbody tr th {\n",
              "        vertical-align: top;\n",
              "    }\n",
              "\n",
              "    .dataframe thead th {\n",
              "        text-align: right;\n",
              "    }\n",
              "</style>\n",
              "<table border=\"1\" class=\"dataframe\">\n",
              "  <thead>\n",
              "    <tr style=\"text-align: right;\">\n",
              "      <th></th>\n",
              "      <th>Id</th>\n",
              "      <th>Team</th>\n",
              "      <th>Type</th>\n",
              "      <th>Career</th>\n",
              "      <th>Context</th>\n",
              "      <th>Span</th>\n",
              "      <th>Mat</th>\n",
              "      <th>Inns</th>\n",
              "      <th>HS</th>\n",
              "      <th>BF</th>\n",
              "      <th>SR</th>\n",
              "      <th>100s</th>\n",
              "      <th>50s</th>\n",
              "      <th>0s</th>\n",
              "      <th>4s</th>\n",
              "      <th>6s</th>\n",
              "      <th>Avg</th>\n",
              "      <th>NO</th>\n",
              "      <th>Overs</th>\n",
              "      <th>Mdns</th>\n",
              "      <th>Runs</th>\n",
              "      <th>Wkts</th>\n",
              "      <th>Econ</th>\n",
              "      <th>4w</th>\n",
              "      <th>5w</th>\n",
              "      <th>10w</th>\n",
              "      <th>BBI</th>\n",
              "      <th>BBM</th>\n",
              "    </tr>\n",
              "  </thead>\n",
              "  <tbody>\n",
              "    <tr>\n",
              "      <th>0</th>\n",
              "      <td>hashmatullah shahidi</td>\n",
              "      <td>Afghanistan</td>\n",
              "      <td>Top order Batter</td>\n",
              "      <td>2013 - 2023</td>\n",
              "      <td>overview</td>\n",
              "      <td>0</td>\n",
              "      <td>2018-2023</td>\n",
              "      <td>6</td>\n",
              "      <td>375</td>\n",
              "      <td>53.57</td>\n",
              "      <td>833</td>\n",
              "      <td>45.01</td>\n",
              "      <td>0</td>\n",
              "      <td>1</td>\n",
              "      <td>0</td>\n",
              "      <td>46</td>\n",
              "      <td>200*</td>\n",
              "      <td>12</td>\n",
              "      <td>0</td>\n",
              "      <td>0</td>\n",
              "      <td>5</td>\n",
              "      <td>0</td>\n",
              "      <td>0</td>\n",
              "      <td>0</td>\n",
              "      <td>0</td>\n",
              "      <td>0</td>\n",
              "      <td>0</td>\n",
              "      <td>0</td>\n",
              "    </tr>\n",
              "    <tr>\n",
              "      <th>1</th>\n",
              "      <td>hashmatullah shahidi</td>\n",
              "      <td>Afghanistan</td>\n",
              "      <td>Top order Batter</td>\n",
              "      <td>2013 - 2023</td>\n",
              "      <td>vs Bangladesh</td>\n",
              "      <td>0</td>\n",
              "      <td>2019-2023</td>\n",
              "      <td>2</td>\n",
              "      <td>48</td>\n",
              "      <td>16.00</td>\n",
              "      <td>99</td>\n",
              "      <td>48.48</td>\n",
              "      <td>0</td>\n",
              "      <td>0</td>\n",
              "      <td>0</td>\n",
              "      <td>7</td>\n",
              "      <td>14</td>\n",
              "      <td>4</td>\n",
              "      <td>0</td>\n",
              "      <td>0</td>\n",
              "      <td>1</td>\n",
              "      <td>0</td>\n",
              "      <td>0</td>\n",
              "      <td>0</td>\n",
              "      <td>0</td>\n",
              "      <td>0</td>\n",
              "      <td>0</td>\n",
              "      <td>0</td>\n",
              "    </tr>\n",
              "    <tr>\n",
              "      <th>2</th>\n",
              "      <td>hashmatullah shahidi</td>\n",
              "      <td>Afghanistan</td>\n",
              "      <td>Top order Batter</td>\n",
              "      <td>2013 - 2023</td>\n",
              "      <td>vs India</td>\n",
              "      <td>0</td>\n",
              "      <td>2018-2018</td>\n",
              "      <td>1</td>\n",
              "      <td>47</td>\n",
              "      <td>47.00</td>\n",
              "      <td>112</td>\n",
              "      <td>41.96</td>\n",
              "      <td>0</td>\n",
              "      <td>0</td>\n",
              "      <td>0</td>\n",
              "      <td>8</td>\n",
              "      <td>36*</td>\n",
              "      <td>2</td>\n",
              "      <td>0</td>\n",
              "      <td>0</td>\n",
              "      <td>1</td>\n",
              "      <td>0</td>\n",
              "      <td>0</td>\n",
              "      <td>0</td>\n",
              "      <td>0</td>\n",
              "      <td>0</td>\n",
              "      <td>0</td>\n",
              "      <td>0</td>\n",
              "    </tr>\n",
              "    <tr>\n",
              "      <th>3</th>\n",
              "      <td>hashmatullah shahidi</td>\n",
              "      <td>Afghanistan</td>\n",
              "      <td>Top order Batter</td>\n",
              "      <td>2013 - 2023</td>\n",
              "      <td>vs Ireland</td>\n",
              "      <td>0</td>\n",
              "      <td>2019-2019</td>\n",
              "      <td>1</td>\n",
              "      <td>65</td>\n",
              "      <td>65.00</td>\n",
              "      <td>155</td>\n",
              "      <td>41.93</td>\n",
              "      <td>0</td>\n",
              "      <td>1</td>\n",
              "      <td>0</td>\n",
              "      <td>7</td>\n",
              "      <td>61</td>\n",
              "      <td>2</td>\n",
              "      <td>0</td>\n",
              "      <td>0</td>\n",
              "      <td>1</td>\n",
              "      <td>0</td>\n",
              "      <td>0</td>\n",
              "      <td>0</td>\n",
              "      <td>0</td>\n",
              "      <td>0</td>\n",
              "      <td>0</td>\n",
              "      <td>0</td>\n",
              "    </tr>\n",
              "    <tr>\n",
              "      <th>4</th>\n",
              "      <td>hashmatullah shahidi</td>\n",
              "      <td>Afghanistan</td>\n",
              "      <td>Top order Batter</td>\n",
              "      <td>2013 - 2023</td>\n",
              "      <td>vs Zimbabwe</td>\n",
              "      <td>0</td>\n",
              "      <td>2021-2021</td>\n",
              "      <td>2</td>\n",
              "      <td>215</td>\n",
              "      <td>107.50</td>\n",
              "      <td>467</td>\n",
              "      <td>46.03</td>\n",
              "      <td>0</td>\n",
              "      <td>0</td>\n",
              "      <td>0</td>\n",
              "      <td>24</td>\n",
              "      <td>200*</td>\n",
              "      <td>4</td>\n",
              "      <td>0</td>\n",
              "      <td>0</td>\n",
              "      <td>2</td>\n",
              "      <td>0</td>\n",
              "      <td>0</td>\n",
              "      <td>0</td>\n",
              "      <td>0</td>\n",
              "      <td>0</td>\n",
              "      <td>0</td>\n",
              "      <td>0</td>\n",
              "    </tr>\n",
              "  </tbody>\n",
              "</table>\n",
              "</div>\n",
              "    <div class=\"colab-df-buttons\">\n",
              "\n",
              "  <div class=\"colab-df-container\">\n",
              "    <button class=\"colab-df-convert\" onclick=\"convertToInteractive('df-e0f06ac5-9d3d-42cb-bce6-19113d15ca46')\"\n",
              "            title=\"Convert this dataframe to an interactive table.\"\n",
              "            style=\"display:none;\">\n",
              "\n",
              "  <svg xmlns=\"http://www.w3.org/2000/svg\" height=\"24px\" viewBox=\"0 -960 960 960\">\n",
              "    <path d=\"M120-120v-720h720v720H120Zm60-500h600v-160H180v160Zm220 220h160v-160H400v160Zm0 220h160v-160H400v160ZM180-400h160v-160H180v160Zm440 0h160v-160H620v160ZM180-180h160v-160H180v160Zm440 0h160v-160H620v160Z\"/>\n",
              "  </svg>\n",
              "    </button>\n",
              "\n",
              "  <style>\n",
              "    .colab-df-container {\n",
              "      display:flex;\n",
              "      gap: 12px;\n",
              "    }\n",
              "\n",
              "    .colab-df-convert {\n",
              "      background-color: #E8F0FE;\n",
              "      border: none;\n",
              "      border-radius: 50%;\n",
              "      cursor: pointer;\n",
              "      display: none;\n",
              "      fill: #1967D2;\n",
              "      height: 32px;\n",
              "      padding: 0 0 0 0;\n",
              "      width: 32px;\n",
              "    }\n",
              "\n",
              "    .colab-df-convert:hover {\n",
              "      background-color: #E2EBFA;\n",
              "      box-shadow: 0px 1px 2px rgba(60, 64, 67, 0.3), 0px 1px 3px 1px rgba(60, 64, 67, 0.15);\n",
              "      fill: #174EA6;\n",
              "    }\n",
              "\n",
              "    .colab-df-buttons div {\n",
              "      margin-bottom: 4px;\n",
              "    }\n",
              "\n",
              "    [theme=dark] .colab-df-convert {\n",
              "      background-color: #3B4455;\n",
              "      fill: #D2E3FC;\n",
              "    }\n",
              "\n",
              "    [theme=dark] .colab-df-convert:hover {\n",
              "      background-color: #434B5C;\n",
              "      box-shadow: 0px 1px 3px 1px rgba(0, 0, 0, 0.15);\n",
              "      filter: drop-shadow(0px 1px 2px rgba(0, 0, 0, 0.3));\n",
              "      fill: #FFFFFF;\n",
              "    }\n",
              "  </style>\n",
              "\n",
              "    <script>\n",
              "      const buttonEl =\n",
              "        document.querySelector('#df-e0f06ac5-9d3d-42cb-bce6-19113d15ca46 button.colab-df-convert');\n",
              "      buttonEl.style.display =\n",
              "        google.colab.kernel.accessAllowed ? 'block' : 'none';\n",
              "\n",
              "      async function convertToInteractive(key) {\n",
              "        const element = document.querySelector('#df-e0f06ac5-9d3d-42cb-bce6-19113d15ca46');\n",
              "        const dataTable =\n",
              "          await google.colab.kernel.invokeFunction('convertToInteractive',\n",
              "                                                    [key], {});\n",
              "        if (!dataTable) return;\n",
              "\n",
              "        const docLinkHtml = 'Like what you see? Visit the ' +\n",
              "          '<a target=\"_blank\" href=https://colab.research.google.com/notebooks/data_table.ipynb>data table notebook</a>'\n",
              "          + ' to learn more about interactive tables.';\n",
              "        element.innerHTML = '';\n",
              "        dataTable['output_type'] = 'display_data';\n",
              "        await google.colab.output.renderOutput(dataTable, element);\n",
              "        const docLink = document.createElement('div');\n",
              "        docLink.innerHTML = docLinkHtml;\n",
              "        element.appendChild(docLink);\n",
              "      }\n",
              "    </script>\n",
              "  </div>\n",
              "\n",
              "\n",
              "<div id=\"df-2b49e597-1b95-4fdb-a86c-2bcdc3277a60\">\n",
              "  <button class=\"colab-df-quickchart\" onclick=\"quickchart('df-2b49e597-1b95-4fdb-a86c-2bcdc3277a60')\"\n",
              "            title=\"Suggest charts\"\n",
              "            style=\"display:none;\">\n",
              "\n",
              "<svg xmlns=\"http://www.w3.org/2000/svg\" height=\"24px\"viewBox=\"0 0 24 24\"\n",
              "     width=\"24px\">\n",
              "    <g>\n",
              "        <path d=\"M19 3H5c-1.1 0-2 .9-2 2v14c0 1.1.9 2 2 2h14c1.1 0 2-.9 2-2V5c0-1.1-.9-2-2-2zM9 17H7v-7h2v7zm4 0h-2V7h2v10zm4 0h-2v-4h2v4z\"/>\n",
              "    </g>\n",
              "</svg>\n",
              "  </button>\n",
              "\n",
              "<style>\n",
              "  .colab-df-quickchart {\n",
              "      --bg-color: #E8F0FE;\n",
              "      --fill-color: #1967D2;\n",
              "      --hover-bg-color: #E2EBFA;\n",
              "      --hover-fill-color: #174EA6;\n",
              "      --disabled-fill-color: #AAA;\n",
              "      --disabled-bg-color: #DDD;\n",
              "  }\n",
              "\n",
              "  [theme=dark] .colab-df-quickchart {\n",
              "      --bg-color: #3B4455;\n",
              "      --fill-color: #D2E3FC;\n",
              "      --hover-bg-color: #434B5C;\n",
              "      --hover-fill-color: #FFFFFF;\n",
              "      --disabled-bg-color: #3B4455;\n",
              "      --disabled-fill-color: #666;\n",
              "  }\n",
              "\n",
              "  .colab-df-quickchart {\n",
              "    background-color: var(--bg-color);\n",
              "    border: none;\n",
              "    border-radius: 50%;\n",
              "    cursor: pointer;\n",
              "    display: none;\n",
              "    fill: var(--fill-color);\n",
              "    height: 32px;\n",
              "    padding: 0;\n",
              "    width: 32px;\n",
              "  }\n",
              "\n",
              "  .colab-df-quickchart:hover {\n",
              "    background-color: var(--hover-bg-color);\n",
              "    box-shadow: 0 1px 2px rgba(60, 64, 67, 0.3), 0 1px 3px 1px rgba(60, 64, 67, 0.15);\n",
              "    fill: var(--button-hover-fill-color);\n",
              "  }\n",
              "\n",
              "  .colab-df-quickchart-complete:disabled,\n",
              "  .colab-df-quickchart-complete:disabled:hover {\n",
              "    background-color: var(--disabled-bg-color);\n",
              "    fill: var(--disabled-fill-color);\n",
              "    box-shadow: none;\n",
              "  }\n",
              "\n",
              "  .colab-df-spinner {\n",
              "    border: 2px solid var(--fill-color);\n",
              "    border-color: transparent;\n",
              "    border-bottom-color: var(--fill-color);\n",
              "    animation:\n",
              "      spin 1s steps(1) infinite;\n",
              "  }\n",
              "\n",
              "  @keyframes spin {\n",
              "    0% {\n",
              "      border-color: transparent;\n",
              "      border-bottom-color: var(--fill-color);\n",
              "      border-left-color: var(--fill-color);\n",
              "    }\n",
              "    20% {\n",
              "      border-color: transparent;\n",
              "      border-left-color: var(--fill-color);\n",
              "      border-top-color: var(--fill-color);\n",
              "    }\n",
              "    30% {\n",
              "      border-color: transparent;\n",
              "      border-left-color: var(--fill-color);\n",
              "      border-top-color: var(--fill-color);\n",
              "      border-right-color: var(--fill-color);\n",
              "    }\n",
              "    40% {\n",
              "      border-color: transparent;\n",
              "      border-right-color: var(--fill-color);\n",
              "      border-top-color: var(--fill-color);\n",
              "    }\n",
              "    60% {\n",
              "      border-color: transparent;\n",
              "      border-right-color: var(--fill-color);\n",
              "    }\n",
              "    80% {\n",
              "      border-color: transparent;\n",
              "      border-right-color: var(--fill-color);\n",
              "      border-bottom-color: var(--fill-color);\n",
              "    }\n",
              "    90% {\n",
              "      border-color: transparent;\n",
              "      border-bottom-color: var(--fill-color);\n",
              "    }\n",
              "  }\n",
              "</style>\n",
              "\n",
              "  <script>\n",
              "    async function quickchart(key) {\n",
              "      const quickchartButtonEl =\n",
              "        document.querySelector('#' + key + ' button');\n",
              "      quickchartButtonEl.disabled = true;  // To prevent multiple clicks.\n",
              "      quickchartButtonEl.classList.add('colab-df-spinner');\n",
              "      try {\n",
              "        const charts = await google.colab.kernel.invokeFunction(\n",
              "            'suggestCharts', [key], {});\n",
              "      } catch (error) {\n",
              "        console.error('Error during call to suggestCharts:', error);\n",
              "      }\n",
              "      quickchartButtonEl.classList.remove('colab-df-spinner');\n",
              "      quickchartButtonEl.classList.add('colab-df-quickchart-complete');\n",
              "    }\n",
              "    (() => {\n",
              "      let quickchartButtonEl =\n",
              "        document.querySelector('#df-2b49e597-1b95-4fdb-a86c-2bcdc3277a60 button');\n",
              "      quickchartButtonEl.style.display =\n",
              "        google.colab.kernel.accessAllowed ? 'block' : 'none';\n",
              "    })();\n",
              "  </script>\n",
              "</div>\n",
              "    </div>\n",
              "  </div>\n"
            ]
          },
          "metadata": {},
          "execution_count": 28
        }
      ]
    },
    {
      "cell_type": "markdown",
      "source": [
        "#Data Cleaning and Preprocessing"
      ],
      "metadata": {
        "id": "-So7KjFLmON9"
      }
    },
    {
      "cell_type": "code",
      "source": [
        "import pandas as pd\n",
        "import re\n",
        "\n",
        "# Function to remove non-numeric characters and convert to float\n",
        "def to_numeric(column):\n",
        "    column = column.astype(str)  # Explicitly convert to string\n",
        "    return pd.to_numeric(column.str.extract('(\\d+\\.\\d+|\\d+)')[0], errors='coerce')\n",
        "\n",
        "def to_numeric_BF(column):\n",
        "    # Using regular expression to remove non-numeric characters\n",
        "    column = column.astype(str)\n",
        "    column = column.apply(lambda x: re.sub(r\"[^\\d.]\", \"\", x))\n",
        "    # Convert to float to handle any floating-point numbers and NaN values\n",
        "    column = pd.to_numeric(column, errors='coerce')\n",
        "    # Fill NaN values before converting to int\n",
        "    return column.fillna(column.median()).astype(int)\n",
        "\n",
        "# Apply the revised function to the 'BF' column\n",
        "df['BF'] = to_numeric_BF(df['BF'])\n",
        "\n",
        "# Apply this function to the relevant columns\n",
        "df['HS'] = to_numeric_BF(df['HS']).fillna(df['HS'].median())\n",
        "df['Inns'] = to_numeric(df['Inns']).fillna(df['Inns'].median())\n",
        "df['BF'] = to_numeric_BF(df['BF']).fillna(df['BF'].median())\n",
        "df['SR'] = to_numeric_BF(df['SR']).fillna(df['SR'].median())\n",
        "df['6s'] = to_numeric_BF(df['6s']).fillna(df['6s'].median())\n",
        "df['100s'] = to_numeric_BF(df['100s']).fillna(df['100s'].median())\n",
        "df['Mdns'] = to_numeric_BF(df['Mdns'])\n",
        "df['Wkts'] = to_numeric_BF(df['Wkts']).fillna(df['Wkts'].median())\n",
        "df['Overs'] = to_numeric_BF(df['Overs']).fillna(df['Overs'].median())\n",
        "df['Econ'] = to_numeric_BF(df['Econ']).fillna(df['Econ'].median())\n",
        "df['BBI'] = to_numeric_BF(df['BBI']).fillna(df['BBI'].median())\n",
        "df['BBM'] = to_numeric_BF(df['BBM']).fillna(df['BBM'].median())\n",
        "\n",
        "# Label Encoding for categorical columns\n",
        "from sklearn.preprocessing import LabelEncoder\n",
        "categorical_columns = ['Team', 'Type', 'Career', 'Context', 'Mat']\n",
        "label_encoders = {}\n",
        "for col in categorical_columns:\n",
        "    label_encoders[col] = LabelEncoder()\n",
        "    df[col] = label_encoders[col].fit_transform(df[col])\n"
      ],
      "metadata": {
        "id": "bGwKRdw3kE7l"
      },
      "execution_count": 268,
      "outputs": []
    },
    {
      "cell_type": "markdown",
      "source": [
        "# Feature engineering"
      ],
      "metadata": {
        "id": "F9xaWO7mmpqf"
      }
    },
    {
      "cell_type": "code",
      "source": [
        "# Adding new features like Batting Average and Strike Rate\n",
        "df['Batting_Average'] = df['HS'] / df['Inns']\n",
        "df['Strike_Rate'] = (df['4s']*4 + df['6s']*6) / df['BF']\n"
      ],
      "metadata": {
        "id": "UpdMWoMmkFA9"
      },
      "execution_count": 30,
      "outputs": []
    },
    {
      "cell_type": "code",
      "source": [
        "df.columns"
      ],
      "metadata": {
        "colab": {
          "base_uri": "https://localhost:8080/"
        },
        "id": "W-Y6_BdPqLl5",
        "outputId": "3cf23c06-841e-4189-9396-9ff721dbb1c1"
      },
      "execution_count": 31,
      "outputs": [
        {
          "output_type": "execute_result",
          "data": {
            "text/plain": [
              "Index(['Id', 'Team', 'Type', 'Career', 'Context', 'Span', 'Mat', 'Inns', 'HS',\n",
              "       'BF', 'SR', '100s', '50s', '0s', '4s', '6s', 'Avg', 'NO', 'Overs',\n",
              "       'Mdns', 'Runs', 'Wkts', 'Econ', '4w', '5w', '10w', 'BBI', 'BBM',\n",
              "       'Batting_Average', 'Strike_Rate'],\n",
              "      dtype='object')"
            ]
          },
          "metadata": {},
          "execution_count": 31
        }
      ]
    },
    {
      "cell_type": "code",
      "source": [
        "df.isnull().sum()"
      ],
      "metadata": {
        "colab": {
          "base_uri": "https://localhost:8080/"
        },
        "id": "SiCWhAVCXi_Y",
        "outputId": "c34cc062-0d11-45bc-fcba-216e9a2a361a"
      },
      "execution_count": 32,
      "outputs": [
        {
          "output_type": "execute_result",
          "data": {
            "text/plain": [
              "Id                    0\n",
              "Team                  0\n",
              "Type                  0\n",
              "Career                0\n",
              "Context               0\n",
              "Span                  0\n",
              "Mat                   0\n",
              "Inns                  0\n",
              "HS                    0\n",
              "BF                    0\n",
              "SR                    0\n",
              "100s                  0\n",
              "50s                   0\n",
              "0s                    0\n",
              "4s                    0\n",
              "6s                    0\n",
              "Avg                   0\n",
              "NO                    0\n",
              "Overs                 0\n",
              "Mdns                  0\n",
              "Runs                  0\n",
              "Wkts                  0\n",
              "Econ                  0\n",
              "4w                    0\n",
              "5w                    0\n",
              "10w                   0\n",
              "BBI                   0\n",
              "BBM                   0\n",
              "Batting_Average       6\n",
              "Strike_Rate        4087\n",
              "dtype: int64"
            ]
          },
          "metadata": {},
          "execution_count": 32
        }
      ]
    },
    {
      "cell_type": "code",
      "source": [
        "df['4s'].unique()  #should drop '4s' as only 0 is present"
      ],
      "metadata": {
        "colab": {
          "base_uri": "https://localhost:8080/"
        },
        "id": "efzRNOoEPVIr",
        "outputId": "cb902407-a6d5-457d-ee15-47ac7ae367e4"
      },
      "execution_count": 33,
      "outputs": [
        {
          "output_type": "execute_result",
          "data": {
            "text/plain": [
              "array([0])"
            ]
          },
          "metadata": {},
          "execution_count": 33
        }
      ]
    },
    {
      "cell_type": "code",
      "source": [
        "df['50s'].unique() #should drop '50s' as only 0 is present"
      ],
      "metadata": {
        "colab": {
          "base_uri": "https://localhost:8080/"
        },
        "id": "coLZNFkHP4Cd",
        "outputId": "7c5751cd-9377-48c7-d1d6-62cc147cc673"
      },
      "execution_count": 34,
      "outputs": [
        {
          "output_type": "execute_result",
          "data": {
            "text/plain": [
              "array([0])"
            ]
          },
          "metadata": {},
          "execution_count": 34
        }
      ]
    },
    {
      "cell_type": "code",
      "source": [
        "df['Span'].unique() #should drop 'Span' as only 0 is present"
      ],
      "metadata": {
        "colab": {
          "base_uri": "https://localhost:8080/"
        },
        "id": "LzpfcU5aQRrh",
        "outputId": "760840d6-1894-4716-9a5f-720d3dfe00c3"
      },
      "execution_count": 35,
      "outputs": [
        {
          "output_type": "execute_result",
          "data": {
            "text/plain": [
              "array([0])"
            ]
          },
          "metadata": {},
          "execution_count": 35
        }
      ]
    },
    {
      "cell_type": "code",
      "source": [
        "df['5w'].unique()  #should drop '5w' as only 0 is present"
      ],
      "metadata": {
        "colab": {
          "base_uri": "https://localhost:8080/"
        },
        "id": "isxJnfumYSk_",
        "outputId": "6218e79b-a991-4401-8fdf-3df9f4fcfd38"
      },
      "execution_count": 36,
      "outputs": [
        {
          "output_type": "execute_result",
          "data": {
            "text/plain": [
              "array([0])"
            ]
          },
          "metadata": {},
          "execution_count": 36
        }
      ]
    },
    {
      "cell_type": "code",
      "source": [
        "df['10w'].unique()  #should drop '5w' as only 0 is present"
      ],
      "metadata": {
        "colab": {
          "base_uri": "https://localhost:8080/"
        },
        "id": "8biqLTGXYm6C",
        "outputId": "067271bd-1042-4eb4-e2ab-e114c74a74a9"
      },
      "execution_count": 37,
      "outputs": [
        {
          "output_type": "execute_result",
          "data": {
            "text/plain": [
              "array([0])"
            ]
          },
          "metadata": {},
          "execution_count": 37
        }
      ]
    },
    {
      "cell_type": "code",
      "source": [
        "df.head()"
      ],
      "metadata": {
        "colab": {
          "base_uri": "https://localhost:8080/",
          "height": 313
        },
        "id": "e_GXmR3kZN_r",
        "outputId": "5e0471fb-9055-4ed8-a967-8f15cc4f366d"
      },
      "execution_count": 38,
      "outputs": [
        {
          "output_type": "execute_result",
          "data": {
            "text/plain": [
              "                      Id  Team  Type  Career  Context  Span  Mat  Inns   HS   BF   SR  100s  50s 0s  4s  6s   Avg  NO Overs Mdns Runs Wkts Econ 4w  5w  10w BBI BBM  Batting_Average  Strike_Rate\n",
              "0  hashmatullah shahidi      0     7       8      170     0  147     6  375   53  833    45    0  1   0  46  200*  12     0    0    5    0    0  0   0    0   0   0             62.5     5.207547\n",
              "1  hashmatullah shahidi      0     7       8      216     0  152     2   48   16   99    48    0  0   0   7    14   4     0    0    1    0    0  0   0    0   0   0             24.0     2.625000\n",
              "2  hashmatullah shahidi      0     7       8      220     0  142     1   47   47  112    41    0  0   0   8   36*   2     0    0    1    0    0  0   0    0   0   0             47.0     1.021277\n",
              "3  hashmatullah shahidi      0     7       8      222     0  148     1   65   65  155    41    0  1   0   7    61   2     0    0    1    0    0  0   0    0   0   0             65.0     0.646154\n",
              "4  hashmatullah shahidi      0     7       8      235     0  157     2  215  107  467    46    0  0   0  24  200*   4     0    0    2    0    0  0   0    0   0   0            107.5     1.345794"
            ],
            "text/html": [
              "\n",
              "  <div id=\"df-7fc2bbda-f14e-4b64-aab3-44944c40efc8\" class=\"colab-df-container\">\n",
              "    <div>\n",
              "<style scoped>\n",
              "    .dataframe tbody tr th:only-of-type {\n",
              "        vertical-align: middle;\n",
              "    }\n",
              "\n",
              "    .dataframe tbody tr th {\n",
              "        vertical-align: top;\n",
              "    }\n",
              "\n",
              "    .dataframe thead th {\n",
              "        text-align: right;\n",
              "    }\n",
              "</style>\n",
              "<table border=\"1\" class=\"dataframe\">\n",
              "  <thead>\n",
              "    <tr style=\"text-align: right;\">\n",
              "      <th></th>\n",
              "      <th>Id</th>\n",
              "      <th>Team</th>\n",
              "      <th>Type</th>\n",
              "      <th>Career</th>\n",
              "      <th>Context</th>\n",
              "      <th>Span</th>\n",
              "      <th>Mat</th>\n",
              "      <th>Inns</th>\n",
              "      <th>HS</th>\n",
              "      <th>BF</th>\n",
              "      <th>SR</th>\n",
              "      <th>100s</th>\n",
              "      <th>50s</th>\n",
              "      <th>0s</th>\n",
              "      <th>4s</th>\n",
              "      <th>6s</th>\n",
              "      <th>Avg</th>\n",
              "      <th>NO</th>\n",
              "      <th>Overs</th>\n",
              "      <th>Mdns</th>\n",
              "      <th>Runs</th>\n",
              "      <th>Wkts</th>\n",
              "      <th>Econ</th>\n",
              "      <th>4w</th>\n",
              "      <th>5w</th>\n",
              "      <th>10w</th>\n",
              "      <th>BBI</th>\n",
              "      <th>BBM</th>\n",
              "      <th>Batting_Average</th>\n",
              "      <th>Strike_Rate</th>\n",
              "    </tr>\n",
              "  </thead>\n",
              "  <tbody>\n",
              "    <tr>\n",
              "      <th>0</th>\n",
              "      <td>hashmatullah shahidi</td>\n",
              "      <td>0</td>\n",
              "      <td>7</td>\n",
              "      <td>8</td>\n",
              "      <td>170</td>\n",
              "      <td>0</td>\n",
              "      <td>147</td>\n",
              "      <td>6</td>\n",
              "      <td>375</td>\n",
              "      <td>53</td>\n",
              "      <td>833</td>\n",
              "      <td>45</td>\n",
              "      <td>0</td>\n",
              "      <td>1</td>\n",
              "      <td>0</td>\n",
              "      <td>46</td>\n",
              "      <td>200*</td>\n",
              "      <td>12</td>\n",
              "      <td>0</td>\n",
              "      <td>0</td>\n",
              "      <td>5</td>\n",
              "      <td>0</td>\n",
              "      <td>0</td>\n",
              "      <td>0</td>\n",
              "      <td>0</td>\n",
              "      <td>0</td>\n",
              "      <td>0</td>\n",
              "      <td>0</td>\n",
              "      <td>62.5</td>\n",
              "      <td>5.207547</td>\n",
              "    </tr>\n",
              "    <tr>\n",
              "      <th>1</th>\n",
              "      <td>hashmatullah shahidi</td>\n",
              "      <td>0</td>\n",
              "      <td>7</td>\n",
              "      <td>8</td>\n",
              "      <td>216</td>\n",
              "      <td>0</td>\n",
              "      <td>152</td>\n",
              "      <td>2</td>\n",
              "      <td>48</td>\n",
              "      <td>16</td>\n",
              "      <td>99</td>\n",
              "      <td>48</td>\n",
              "      <td>0</td>\n",
              "      <td>0</td>\n",
              "      <td>0</td>\n",
              "      <td>7</td>\n",
              "      <td>14</td>\n",
              "      <td>4</td>\n",
              "      <td>0</td>\n",
              "      <td>0</td>\n",
              "      <td>1</td>\n",
              "      <td>0</td>\n",
              "      <td>0</td>\n",
              "      <td>0</td>\n",
              "      <td>0</td>\n",
              "      <td>0</td>\n",
              "      <td>0</td>\n",
              "      <td>0</td>\n",
              "      <td>24.0</td>\n",
              "      <td>2.625000</td>\n",
              "    </tr>\n",
              "    <tr>\n",
              "      <th>2</th>\n",
              "      <td>hashmatullah shahidi</td>\n",
              "      <td>0</td>\n",
              "      <td>7</td>\n",
              "      <td>8</td>\n",
              "      <td>220</td>\n",
              "      <td>0</td>\n",
              "      <td>142</td>\n",
              "      <td>1</td>\n",
              "      <td>47</td>\n",
              "      <td>47</td>\n",
              "      <td>112</td>\n",
              "      <td>41</td>\n",
              "      <td>0</td>\n",
              "      <td>0</td>\n",
              "      <td>0</td>\n",
              "      <td>8</td>\n",
              "      <td>36*</td>\n",
              "      <td>2</td>\n",
              "      <td>0</td>\n",
              "      <td>0</td>\n",
              "      <td>1</td>\n",
              "      <td>0</td>\n",
              "      <td>0</td>\n",
              "      <td>0</td>\n",
              "      <td>0</td>\n",
              "      <td>0</td>\n",
              "      <td>0</td>\n",
              "      <td>0</td>\n",
              "      <td>47.0</td>\n",
              "      <td>1.021277</td>\n",
              "    </tr>\n",
              "    <tr>\n",
              "      <th>3</th>\n",
              "      <td>hashmatullah shahidi</td>\n",
              "      <td>0</td>\n",
              "      <td>7</td>\n",
              "      <td>8</td>\n",
              "      <td>222</td>\n",
              "      <td>0</td>\n",
              "      <td>148</td>\n",
              "      <td>1</td>\n",
              "      <td>65</td>\n",
              "      <td>65</td>\n",
              "      <td>155</td>\n",
              "      <td>41</td>\n",
              "      <td>0</td>\n",
              "      <td>1</td>\n",
              "      <td>0</td>\n",
              "      <td>7</td>\n",
              "      <td>61</td>\n",
              "      <td>2</td>\n",
              "      <td>0</td>\n",
              "      <td>0</td>\n",
              "      <td>1</td>\n",
              "      <td>0</td>\n",
              "      <td>0</td>\n",
              "      <td>0</td>\n",
              "      <td>0</td>\n",
              "      <td>0</td>\n",
              "      <td>0</td>\n",
              "      <td>0</td>\n",
              "      <td>65.0</td>\n",
              "      <td>0.646154</td>\n",
              "    </tr>\n",
              "    <tr>\n",
              "      <th>4</th>\n",
              "      <td>hashmatullah shahidi</td>\n",
              "      <td>0</td>\n",
              "      <td>7</td>\n",
              "      <td>8</td>\n",
              "      <td>235</td>\n",
              "      <td>0</td>\n",
              "      <td>157</td>\n",
              "      <td>2</td>\n",
              "      <td>215</td>\n",
              "      <td>107</td>\n",
              "      <td>467</td>\n",
              "      <td>46</td>\n",
              "      <td>0</td>\n",
              "      <td>0</td>\n",
              "      <td>0</td>\n",
              "      <td>24</td>\n",
              "      <td>200*</td>\n",
              "      <td>4</td>\n",
              "      <td>0</td>\n",
              "      <td>0</td>\n",
              "      <td>2</td>\n",
              "      <td>0</td>\n",
              "      <td>0</td>\n",
              "      <td>0</td>\n",
              "      <td>0</td>\n",
              "      <td>0</td>\n",
              "      <td>0</td>\n",
              "      <td>0</td>\n",
              "      <td>107.5</td>\n",
              "      <td>1.345794</td>\n",
              "    </tr>\n",
              "  </tbody>\n",
              "</table>\n",
              "</div>\n",
              "    <div class=\"colab-df-buttons\">\n",
              "\n",
              "  <div class=\"colab-df-container\">\n",
              "    <button class=\"colab-df-convert\" onclick=\"convertToInteractive('df-7fc2bbda-f14e-4b64-aab3-44944c40efc8')\"\n",
              "            title=\"Convert this dataframe to an interactive table.\"\n",
              "            style=\"display:none;\">\n",
              "\n",
              "  <svg xmlns=\"http://www.w3.org/2000/svg\" height=\"24px\" viewBox=\"0 -960 960 960\">\n",
              "    <path d=\"M120-120v-720h720v720H120Zm60-500h600v-160H180v160Zm220 220h160v-160H400v160Zm0 220h160v-160H400v160ZM180-400h160v-160H180v160Zm440 0h160v-160H620v160ZM180-180h160v-160H180v160Zm440 0h160v-160H620v160Z\"/>\n",
              "  </svg>\n",
              "    </button>\n",
              "\n",
              "  <style>\n",
              "    .colab-df-container {\n",
              "      display:flex;\n",
              "      gap: 12px;\n",
              "    }\n",
              "\n",
              "    .colab-df-convert {\n",
              "      background-color: #E8F0FE;\n",
              "      border: none;\n",
              "      border-radius: 50%;\n",
              "      cursor: pointer;\n",
              "      display: none;\n",
              "      fill: #1967D2;\n",
              "      height: 32px;\n",
              "      padding: 0 0 0 0;\n",
              "      width: 32px;\n",
              "    }\n",
              "\n",
              "    .colab-df-convert:hover {\n",
              "      background-color: #E2EBFA;\n",
              "      box-shadow: 0px 1px 2px rgba(60, 64, 67, 0.3), 0px 1px 3px 1px rgba(60, 64, 67, 0.15);\n",
              "      fill: #174EA6;\n",
              "    }\n",
              "\n",
              "    .colab-df-buttons div {\n",
              "      margin-bottom: 4px;\n",
              "    }\n",
              "\n",
              "    [theme=dark] .colab-df-convert {\n",
              "      background-color: #3B4455;\n",
              "      fill: #D2E3FC;\n",
              "    }\n",
              "\n",
              "    [theme=dark] .colab-df-convert:hover {\n",
              "      background-color: #434B5C;\n",
              "      box-shadow: 0px 1px 3px 1px rgba(0, 0, 0, 0.15);\n",
              "      filter: drop-shadow(0px 1px 2px rgba(0, 0, 0, 0.3));\n",
              "      fill: #FFFFFF;\n",
              "    }\n",
              "  </style>\n",
              "\n",
              "    <script>\n",
              "      const buttonEl =\n",
              "        document.querySelector('#df-7fc2bbda-f14e-4b64-aab3-44944c40efc8 button.colab-df-convert');\n",
              "      buttonEl.style.display =\n",
              "        google.colab.kernel.accessAllowed ? 'block' : 'none';\n",
              "\n",
              "      async function convertToInteractive(key) {\n",
              "        const element = document.querySelector('#df-7fc2bbda-f14e-4b64-aab3-44944c40efc8');\n",
              "        const dataTable =\n",
              "          await google.colab.kernel.invokeFunction('convertToInteractive',\n",
              "                                                    [key], {});\n",
              "        if (!dataTable) return;\n",
              "\n",
              "        const docLinkHtml = 'Like what you see? Visit the ' +\n",
              "          '<a target=\"_blank\" href=https://colab.research.google.com/notebooks/data_table.ipynb>data table notebook</a>'\n",
              "          + ' to learn more about interactive tables.';\n",
              "        element.innerHTML = '';\n",
              "        dataTable['output_type'] = 'display_data';\n",
              "        await google.colab.output.renderOutput(dataTable, element);\n",
              "        const docLink = document.createElement('div');\n",
              "        docLink.innerHTML = docLinkHtml;\n",
              "        element.appendChild(docLink);\n",
              "      }\n",
              "    </script>\n",
              "  </div>\n",
              "\n",
              "\n",
              "<div id=\"df-f6bbda41-0262-4b28-b423-1a797ceb905e\">\n",
              "  <button class=\"colab-df-quickchart\" onclick=\"quickchart('df-f6bbda41-0262-4b28-b423-1a797ceb905e')\"\n",
              "            title=\"Suggest charts\"\n",
              "            style=\"display:none;\">\n",
              "\n",
              "<svg xmlns=\"http://www.w3.org/2000/svg\" height=\"24px\"viewBox=\"0 0 24 24\"\n",
              "     width=\"24px\">\n",
              "    <g>\n",
              "        <path d=\"M19 3H5c-1.1 0-2 .9-2 2v14c0 1.1.9 2 2 2h14c1.1 0 2-.9 2-2V5c0-1.1-.9-2-2-2zM9 17H7v-7h2v7zm4 0h-2V7h2v10zm4 0h-2v-4h2v4z\"/>\n",
              "    </g>\n",
              "</svg>\n",
              "  </button>\n",
              "\n",
              "<style>\n",
              "  .colab-df-quickchart {\n",
              "      --bg-color: #E8F0FE;\n",
              "      --fill-color: #1967D2;\n",
              "      --hover-bg-color: #E2EBFA;\n",
              "      --hover-fill-color: #174EA6;\n",
              "      --disabled-fill-color: #AAA;\n",
              "      --disabled-bg-color: #DDD;\n",
              "  }\n",
              "\n",
              "  [theme=dark] .colab-df-quickchart {\n",
              "      --bg-color: #3B4455;\n",
              "      --fill-color: #D2E3FC;\n",
              "      --hover-bg-color: #434B5C;\n",
              "      --hover-fill-color: #FFFFFF;\n",
              "      --disabled-bg-color: #3B4455;\n",
              "      --disabled-fill-color: #666;\n",
              "  }\n",
              "\n",
              "  .colab-df-quickchart {\n",
              "    background-color: var(--bg-color);\n",
              "    border: none;\n",
              "    border-radius: 50%;\n",
              "    cursor: pointer;\n",
              "    display: none;\n",
              "    fill: var(--fill-color);\n",
              "    height: 32px;\n",
              "    padding: 0;\n",
              "    width: 32px;\n",
              "  }\n",
              "\n",
              "  .colab-df-quickchart:hover {\n",
              "    background-color: var(--hover-bg-color);\n",
              "    box-shadow: 0 1px 2px rgba(60, 64, 67, 0.3), 0 1px 3px 1px rgba(60, 64, 67, 0.15);\n",
              "    fill: var(--button-hover-fill-color);\n",
              "  }\n",
              "\n",
              "  .colab-df-quickchart-complete:disabled,\n",
              "  .colab-df-quickchart-complete:disabled:hover {\n",
              "    background-color: var(--disabled-bg-color);\n",
              "    fill: var(--disabled-fill-color);\n",
              "    box-shadow: none;\n",
              "  }\n",
              "\n",
              "  .colab-df-spinner {\n",
              "    border: 2px solid var(--fill-color);\n",
              "    border-color: transparent;\n",
              "    border-bottom-color: var(--fill-color);\n",
              "    animation:\n",
              "      spin 1s steps(1) infinite;\n",
              "  }\n",
              "\n",
              "  @keyframes spin {\n",
              "    0% {\n",
              "      border-color: transparent;\n",
              "      border-bottom-color: var(--fill-color);\n",
              "      border-left-color: var(--fill-color);\n",
              "    }\n",
              "    20% {\n",
              "      border-color: transparent;\n",
              "      border-left-color: var(--fill-color);\n",
              "      border-top-color: var(--fill-color);\n",
              "    }\n",
              "    30% {\n",
              "      border-color: transparent;\n",
              "      border-left-color: var(--fill-color);\n",
              "      border-top-color: var(--fill-color);\n",
              "      border-right-color: var(--fill-color);\n",
              "    }\n",
              "    40% {\n",
              "      border-color: transparent;\n",
              "      border-right-color: var(--fill-color);\n",
              "      border-top-color: var(--fill-color);\n",
              "    }\n",
              "    60% {\n",
              "      border-color: transparent;\n",
              "      border-right-color: var(--fill-color);\n",
              "    }\n",
              "    80% {\n",
              "      border-color: transparent;\n",
              "      border-right-color: var(--fill-color);\n",
              "      border-bottom-color: var(--fill-color);\n",
              "    }\n",
              "    90% {\n",
              "      border-color: transparent;\n",
              "      border-bottom-color: var(--fill-color);\n",
              "    }\n",
              "  }\n",
              "</style>\n",
              "\n",
              "  <script>\n",
              "    async function quickchart(key) {\n",
              "      const quickchartButtonEl =\n",
              "        document.querySelector('#' + key + ' button');\n",
              "      quickchartButtonEl.disabled = true;  // To prevent multiple clicks.\n",
              "      quickchartButtonEl.classList.add('colab-df-spinner');\n",
              "      try {\n",
              "        const charts = await google.colab.kernel.invokeFunction(\n",
              "            'suggestCharts', [key], {});\n",
              "      } catch (error) {\n",
              "        console.error('Error during call to suggestCharts:', error);\n",
              "      }\n",
              "      quickchartButtonEl.classList.remove('colab-df-spinner');\n",
              "      quickchartButtonEl.classList.add('colab-df-quickchart-complete');\n",
              "    }\n",
              "    (() => {\n",
              "      let quickchartButtonEl =\n",
              "        document.querySelector('#df-f6bbda41-0262-4b28-b423-1a797ceb905e button');\n",
              "      quickchartButtonEl.style.display =\n",
              "        google.colab.kernel.accessAllowed ? 'block' : 'none';\n",
              "    })();\n",
              "  </script>\n",
              "</div>\n",
              "    </div>\n",
              "  </div>\n"
            ]
          },
          "metadata": {},
          "execution_count": 38
        }
      ]
    },
    {
      "cell_type": "markdown",
      "source": [
        "#EDA"
      ],
      "metadata": {
        "id": "j9-P2ygbKLzV"
      }
    },
    {
      "cell_type": "code",
      "source": [
        "import pandas as pd\n",
        "import matplotlib.pyplot as plt\n",
        "import seaborn as sns\n",
        "\n",
        "print(\"Basic Statistics:\")\n",
        "df.describe()"
      ],
      "metadata": {
        "colab": {
          "base_uri": "https://localhost:8080/",
          "height": 337
        },
        "id": "oYGLNw2vi3Mw",
        "outputId": "5589f84a-6c79-4410-811d-13dd150622f7"
      },
      "execution_count": 39,
      "outputs": [
        {
          "output_type": "stream",
          "name": "stdout",
          "text": [
            "Basic Statistics:\n"
          ]
        },
        {
          "output_type": "execute_result",
          "data": {
            "text/plain": [
              "               Team          Type        Career       Context     Span           Mat          Inns            HS            BF            SR          100s      50s       4s            6s       5w      10w  Batting_Average  Strike_Rate\n",
              "count  10541.000000  10541.000000  10541.000000  10541.000000  10541.0  10541.000000  10541.000000  10541.000000  10541.000000  10541.000000  10541.000000  10541.0  10541.0  10541.000000  10541.0  10541.0     10535.000000  6454.000000\n",
              "mean       4.426335      3.933118     10.016792    158.608386      0.0    162.690257      9.953799    359.853904     21.900674    632.514183     36.914904      0.0      0.0     40.612560      0.0      0.0        30.275082    10.342770\n",
              "std        2.772665      2.586270      4.318356     59.434341      0.0     61.417952     14.632152    838.180711     24.843478   1490.470580     33.409734      0.0      0.0     94.887225      0.0      0.0        34.149993    15.496311\n",
              "min        0.000000      0.000000      0.000000      0.000000      0.0      0.000000      0.000000      0.000000      0.000000      0.000000      0.000000      0.0      0.0      0.000000      0.0      0.0         0.000000     0.000000\n",
              "25%        2.000000      3.000000      7.000000    104.000000      0.0    127.000000      2.000000      0.000000      0.000000      3.000000      0.000000      0.0      0.0      0.000000      0.0      0.0         0.000000     2.000000\n",
              "50%        4.000000      3.000000     10.000000    157.000000      0.0    152.000000      5.000000     53.000000     18.000000     92.000000     44.000000      0.0      0.0      6.000000      0.0      0.0        22.000000     4.800000\n",
              "75%        7.000000      6.000000     13.000000    206.000000      0.0    162.000000     11.000000    341.000000     36.000000    579.000000     59.000000      0.0      0.0     38.000000      0.0      0.0        52.867521    11.365602\n",
              "max        9.000000      8.000000     19.000000    260.000000      0.0    299.000000    160.000000  11416.000000    221.000000  20113.000000    205.000000      0.0      0.0   1247.000000      0.0      0.0       270.000000   149.640000"
            ],
            "text/html": [
              "\n",
              "  <div id=\"df-7a089438-d95f-4506-bc0c-31006d89e702\" class=\"colab-df-container\">\n",
              "    <div>\n",
              "<style scoped>\n",
              "    .dataframe tbody tr th:only-of-type {\n",
              "        vertical-align: middle;\n",
              "    }\n",
              "\n",
              "    .dataframe tbody tr th {\n",
              "        vertical-align: top;\n",
              "    }\n",
              "\n",
              "    .dataframe thead th {\n",
              "        text-align: right;\n",
              "    }\n",
              "</style>\n",
              "<table border=\"1\" class=\"dataframe\">\n",
              "  <thead>\n",
              "    <tr style=\"text-align: right;\">\n",
              "      <th></th>\n",
              "      <th>Team</th>\n",
              "      <th>Type</th>\n",
              "      <th>Career</th>\n",
              "      <th>Context</th>\n",
              "      <th>Span</th>\n",
              "      <th>Mat</th>\n",
              "      <th>Inns</th>\n",
              "      <th>HS</th>\n",
              "      <th>BF</th>\n",
              "      <th>SR</th>\n",
              "      <th>100s</th>\n",
              "      <th>50s</th>\n",
              "      <th>4s</th>\n",
              "      <th>6s</th>\n",
              "      <th>5w</th>\n",
              "      <th>10w</th>\n",
              "      <th>Batting_Average</th>\n",
              "      <th>Strike_Rate</th>\n",
              "    </tr>\n",
              "  </thead>\n",
              "  <tbody>\n",
              "    <tr>\n",
              "      <th>count</th>\n",
              "      <td>10541.000000</td>\n",
              "      <td>10541.000000</td>\n",
              "      <td>10541.000000</td>\n",
              "      <td>10541.000000</td>\n",
              "      <td>10541.0</td>\n",
              "      <td>10541.000000</td>\n",
              "      <td>10541.000000</td>\n",
              "      <td>10541.000000</td>\n",
              "      <td>10541.000000</td>\n",
              "      <td>10541.000000</td>\n",
              "      <td>10541.000000</td>\n",
              "      <td>10541.0</td>\n",
              "      <td>10541.0</td>\n",
              "      <td>10541.000000</td>\n",
              "      <td>10541.0</td>\n",
              "      <td>10541.0</td>\n",
              "      <td>10535.000000</td>\n",
              "      <td>6454.000000</td>\n",
              "    </tr>\n",
              "    <tr>\n",
              "      <th>mean</th>\n",
              "      <td>4.426335</td>\n",
              "      <td>3.933118</td>\n",
              "      <td>10.016792</td>\n",
              "      <td>158.608386</td>\n",
              "      <td>0.0</td>\n",
              "      <td>162.690257</td>\n",
              "      <td>9.953799</td>\n",
              "      <td>359.853904</td>\n",
              "      <td>21.900674</td>\n",
              "      <td>632.514183</td>\n",
              "      <td>36.914904</td>\n",
              "      <td>0.0</td>\n",
              "      <td>0.0</td>\n",
              "      <td>40.612560</td>\n",
              "      <td>0.0</td>\n",
              "      <td>0.0</td>\n",
              "      <td>30.275082</td>\n",
              "      <td>10.342770</td>\n",
              "    </tr>\n",
              "    <tr>\n",
              "      <th>std</th>\n",
              "      <td>2.772665</td>\n",
              "      <td>2.586270</td>\n",
              "      <td>4.318356</td>\n",
              "      <td>59.434341</td>\n",
              "      <td>0.0</td>\n",
              "      <td>61.417952</td>\n",
              "      <td>14.632152</td>\n",
              "      <td>838.180711</td>\n",
              "      <td>24.843478</td>\n",
              "      <td>1490.470580</td>\n",
              "      <td>33.409734</td>\n",
              "      <td>0.0</td>\n",
              "      <td>0.0</td>\n",
              "      <td>94.887225</td>\n",
              "      <td>0.0</td>\n",
              "      <td>0.0</td>\n",
              "      <td>34.149993</td>\n",
              "      <td>15.496311</td>\n",
              "    </tr>\n",
              "    <tr>\n",
              "      <th>min</th>\n",
              "      <td>0.000000</td>\n",
              "      <td>0.000000</td>\n",
              "      <td>0.000000</td>\n",
              "      <td>0.000000</td>\n",
              "      <td>0.0</td>\n",
              "      <td>0.000000</td>\n",
              "      <td>0.000000</td>\n",
              "      <td>0.000000</td>\n",
              "      <td>0.000000</td>\n",
              "      <td>0.000000</td>\n",
              "      <td>0.000000</td>\n",
              "      <td>0.0</td>\n",
              "      <td>0.0</td>\n",
              "      <td>0.000000</td>\n",
              "      <td>0.0</td>\n",
              "      <td>0.0</td>\n",
              "      <td>0.000000</td>\n",
              "      <td>0.000000</td>\n",
              "    </tr>\n",
              "    <tr>\n",
              "      <th>25%</th>\n",
              "      <td>2.000000</td>\n",
              "      <td>3.000000</td>\n",
              "      <td>7.000000</td>\n",
              "      <td>104.000000</td>\n",
              "      <td>0.0</td>\n",
              "      <td>127.000000</td>\n",
              "      <td>2.000000</td>\n",
              "      <td>0.000000</td>\n",
              "      <td>0.000000</td>\n",
              "      <td>3.000000</td>\n",
              "      <td>0.000000</td>\n",
              "      <td>0.0</td>\n",
              "      <td>0.0</td>\n",
              "      <td>0.000000</td>\n",
              "      <td>0.0</td>\n",
              "      <td>0.0</td>\n",
              "      <td>0.000000</td>\n",
              "      <td>2.000000</td>\n",
              "    </tr>\n",
              "    <tr>\n",
              "      <th>50%</th>\n",
              "      <td>4.000000</td>\n",
              "      <td>3.000000</td>\n",
              "      <td>10.000000</td>\n",
              "      <td>157.000000</td>\n",
              "      <td>0.0</td>\n",
              "      <td>152.000000</td>\n",
              "      <td>5.000000</td>\n",
              "      <td>53.000000</td>\n",
              "      <td>18.000000</td>\n",
              "      <td>92.000000</td>\n",
              "      <td>44.000000</td>\n",
              "      <td>0.0</td>\n",
              "      <td>0.0</td>\n",
              "      <td>6.000000</td>\n",
              "      <td>0.0</td>\n",
              "      <td>0.0</td>\n",
              "      <td>22.000000</td>\n",
              "      <td>4.800000</td>\n",
              "    </tr>\n",
              "    <tr>\n",
              "      <th>75%</th>\n",
              "      <td>7.000000</td>\n",
              "      <td>6.000000</td>\n",
              "      <td>13.000000</td>\n",
              "      <td>206.000000</td>\n",
              "      <td>0.0</td>\n",
              "      <td>162.000000</td>\n",
              "      <td>11.000000</td>\n",
              "      <td>341.000000</td>\n",
              "      <td>36.000000</td>\n",
              "      <td>579.000000</td>\n",
              "      <td>59.000000</td>\n",
              "      <td>0.0</td>\n",
              "      <td>0.0</td>\n",
              "      <td>38.000000</td>\n",
              "      <td>0.0</td>\n",
              "      <td>0.0</td>\n",
              "      <td>52.867521</td>\n",
              "      <td>11.365602</td>\n",
              "    </tr>\n",
              "    <tr>\n",
              "      <th>max</th>\n",
              "      <td>9.000000</td>\n",
              "      <td>8.000000</td>\n",
              "      <td>19.000000</td>\n",
              "      <td>260.000000</td>\n",
              "      <td>0.0</td>\n",
              "      <td>299.000000</td>\n",
              "      <td>160.000000</td>\n",
              "      <td>11416.000000</td>\n",
              "      <td>221.000000</td>\n",
              "      <td>20113.000000</td>\n",
              "      <td>205.000000</td>\n",
              "      <td>0.0</td>\n",
              "      <td>0.0</td>\n",
              "      <td>1247.000000</td>\n",
              "      <td>0.0</td>\n",
              "      <td>0.0</td>\n",
              "      <td>270.000000</td>\n",
              "      <td>149.640000</td>\n",
              "    </tr>\n",
              "  </tbody>\n",
              "</table>\n",
              "</div>\n",
              "    <div class=\"colab-df-buttons\">\n",
              "\n",
              "  <div class=\"colab-df-container\">\n",
              "    <button class=\"colab-df-convert\" onclick=\"convertToInteractive('df-7a089438-d95f-4506-bc0c-31006d89e702')\"\n",
              "            title=\"Convert this dataframe to an interactive table.\"\n",
              "            style=\"display:none;\">\n",
              "\n",
              "  <svg xmlns=\"http://www.w3.org/2000/svg\" height=\"24px\" viewBox=\"0 -960 960 960\">\n",
              "    <path d=\"M120-120v-720h720v720H120Zm60-500h600v-160H180v160Zm220 220h160v-160H400v160Zm0 220h160v-160H400v160ZM180-400h160v-160H180v160Zm440 0h160v-160H620v160ZM180-180h160v-160H180v160Zm440 0h160v-160H620v160Z\"/>\n",
              "  </svg>\n",
              "    </button>\n",
              "\n",
              "  <style>\n",
              "    .colab-df-container {\n",
              "      display:flex;\n",
              "      gap: 12px;\n",
              "    }\n",
              "\n",
              "    .colab-df-convert {\n",
              "      background-color: #E8F0FE;\n",
              "      border: none;\n",
              "      border-radius: 50%;\n",
              "      cursor: pointer;\n",
              "      display: none;\n",
              "      fill: #1967D2;\n",
              "      height: 32px;\n",
              "      padding: 0 0 0 0;\n",
              "      width: 32px;\n",
              "    }\n",
              "\n",
              "    .colab-df-convert:hover {\n",
              "      background-color: #E2EBFA;\n",
              "      box-shadow: 0px 1px 2px rgba(60, 64, 67, 0.3), 0px 1px 3px 1px rgba(60, 64, 67, 0.15);\n",
              "      fill: #174EA6;\n",
              "    }\n",
              "\n",
              "    .colab-df-buttons div {\n",
              "      margin-bottom: 4px;\n",
              "    }\n",
              "\n",
              "    [theme=dark] .colab-df-convert {\n",
              "      background-color: #3B4455;\n",
              "      fill: #D2E3FC;\n",
              "    }\n",
              "\n",
              "    [theme=dark] .colab-df-convert:hover {\n",
              "      background-color: #434B5C;\n",
              "      box-shadow: 0px 1px 3px 1px rgba(0, 0, 0, 0.15);\n",
              "      filter: drop-shadow(0px 1px 2px rgba(0, 0, 0, 0.3));\n",
              "      fill: #FFFFFF;\n",
              "    }\n",
              "  </style>\n",
              "\n",
              "    <script>\n",
              "      const buttonEl =\n",
              "        document.querySelector('#df-7a089438-d95f-4506-bc0c-31006d89e702 button.colab-df-convert');\n",
              "      buttonEl.style.display =\n",
              "        google.colab.kernel.accessAllowed ? 'block' : 'none';\n",
              "\n",
              "      async function convertToInteractive(key) {\n",
              "        const element = document.querySelector('#df-7a089438-d95f-4506-bc0c-31006d89e702');\n",
              "        const dataTable =\n",
              "          await google.colab.kernel.invokeFunction('convertToInteractive',\n",
              "                                                    [key], {});\n",
              "        if (!dataTable) return;\n",
              "\n",
              "        const docLinkHtml = 'Like what you see? Visit the ' +\n",
              "          '<a target=\"_blank\" href=https://colab.research.google.com/notebooks/data_table.ipynb>data table notebook</a>'\n",
              "          + ' to learn more about interactive tables.';\n",
              "        element.innerHTML = '';\n",
              "        dataTable['output_type'] = 'display_data';\n",
              "        await google.colab.output.renderOutput(dataTable, element);\n",
              "        const docLink = document.createElement('div');\n",
              "        docLink.innerHTML = docLinkHtml;\n",
              "        element.appendChild(docLink);\n",
              "      }\n",
              "    </script>\n",
              "  </div>\n",
              "\n",
              "\n",
              "<div id=\"df-df91e4db-0050-4080-b46a-b83728facc01\">\n",
              "  <button class=\"colab-df-quickchart\" onclick=\"quickchart('df-df91e4db-0050-4080-b46a-b83728facc01')\"\n",
              "            title=\"Suggest charts\"\n",
              "            style=\"display:none;\">\n",
              "\n",
              "<svg xmlns=\"http://www.w3.org/2000/svg\" height=\"24px\"viewBox=\"0 0 24 24\"\n",
              "     width=\"24px\">\n",
              "    <g>\n",
              "        <path d=\"M19 3H5c-1.1 0-2 .9-2 2v14c0 1.1.9 2 2 2h14c1.1 0 2-.9 2-2V5c0-1.1-.9-2-2-2zM9 17H7v-7h2v7zm4 0h-2V7h2v10zm4 0h-2v-4h2v4z\"/>\n",
              "    </g>\n",
              "</svg>\n",
              "  </button>\n",
              "\n",
              "<style>\n",
              "  .colab-df-quickchart {\n",
              "      --bg-color: #E8F0FE;\n",
              "      --fill-color: #1967D2;\n",
              "      --hover-bg-color: #E2EBFA;\n",
              "      --hover-fill-color: #174EA6;\n",
              "      --disabled-fill-color: #AAA;\n",
              "      --disabled-bg-color: #DDD;\n",
              "  }\n",
              "\n",
              "  [theme=dark] .colab-df-quickchart {\n",
              "      --bg-color: #3B4455;\n",
              "      --fill-color: #D2E3FC;\n",
              "      --hover-bg-color: #434B5C;\n",
              "      --hover-fill-color: #FFFFFF;\n",
              "      --disabled-bg-color: #3B4455;\n",
              "      --disabled-fill-color: #666;\n",
              "  }\n",
              "\n",
              "  .colab-df-quickchart {\n",
              "    background-color: var(--bg-color);\n",
              "    border: none;\n",
              "    border-radius: 50%;\n",
              "    cursor: pointer;\n",
              "    display: none;\n",
              "    fill: var(--fill-color);\n",
              "    height: 32px;\n",
              "    padding: 0;\n",
              "    width: 32px;\n",
              "  }\n",
              "\n",
              "  .colab-df-quickchart:hover {\n",
              "    background-color: var(--hover-bg-color);\n",
              "    box-shadow: 0 1px 2px rgba(60, 64, 67, 0.3), 0 1px 3px 1px rgba(60, 64, 67, 0.15);\n",
              "    fill: var(--button-hover-fill-color);\n",
              "  }\n",
              "\n",
              "  .colab-df-quickchart-complete:disabled,\n",
              "  .colab-df-quickchart-complete:disabled:hover {\n",
              "    background-color: var(--disabled-bg-color);\n",
              "    fill: var(--disabled-fill-color);\n",
              "    box-shadow: none;\n",
              "  }\n",
              "\n",
              "  .colab-df-spinner {\n",
              "    border: 2px solid var(--fill-color);\n",
              "    border-color: transparent;\n",
              "    border-bottom-color: var(--fill-color);\n",
              "    animation:\n",
              "      spin 1s steps(1) infinite;\n",
              "  }\n",
              "\n",
              "  @keyframes spin {\n",
              "    0% {\n",
              "      border-color: transparent;\n",
              "      border-bottom-color: var(--fill-color);\n",
              "      border-left-color: var(--fill-color);\n",
              "    }\n",
              "    20% {\n",
              "      border-color: transparent;\n",
              "      border-left-color: var(--fill-color);\n",
              "      border-top-color: var(--fill-color);\n",
              "    }\n",
              "    30% {\n",
              "      border-color: transparent;\n",
              "      border-left-color: var(--fill-color);\n",
              "      border-top-color: var(--fill-color);\n",
              "      border-right-color: var(--fill-color);\n",
              "    }\n",
              "    40% {\n",
              "      border-color: transparent;\n",
              "      border-right-color: var(--fill-color);\n",
              "      border-top-color: var(--fill-color);\n",
              "    }\n",
              "    60% {\n",
              "      border-color: transparent;\n",
              "      border-right-color: var(--fill-color);\n",
              "    }\n",
              "    80% {\n",
              "      border-color: transparent;\n",
              "      border-right-color: var(--fill-color);\n",
              "      border-bottom-color: var(--fill-color);\n",
              "    }\n",
              "    90% {\n",
              "      border-color: transparent;\n",
              "      border-bottom-color: var(--fill-color);\n",
              "    }\n",
              "  }\n",
              "</style>\n",
              "\n",
              "  <script>\n",
              "    async function quickchart(key) {\n",
              "      const quickchartButtonEl =\n",
              "        document.querySelector('#' + key + ' button');\n",
              "      quickchartButtonEl.disabled = true;  // To prevent multiple clicks.\n",
              "      quickchartButtonEl.classList.add('colab-df-spinner');\n",
              "      try {\n",
              "        const charts = await google.colab.kernel.invokeFunction(\n",
              "            'suggestCharts', [key], {});\n",
              "      } catch (error) {\n",
              "        console.error('Error during call to suggestCharts:', error);\n",
              "      }\n",
              "      quickchartButtonEl.classList.remove('colab-df-spinner');\n",
              "      quickchartButtonEl.classList.add('colab-df-quickchart-complete');\n",
              "    }\n",
              "    (() => {\n",
              "      let quickchartButtonEl =\n",
              "        document.querySelector('#df-df91e4db-0050-4080-b46a-b83728facc01 button');\n",
              "      quickchartButtonEl.style.display =\n",
              "        google.colab.kernel.accessAllowed ? 'block' : 'none';\n",
              "    })();\n",
              "  </script>\n",
              "</div>\n",
              "    </div>\n",
              "  </div>\n"
            ]
          },
          "metadata": {},
          "execution_count": 39
        }
      ]
    },
    {
      "cell_type": "code",
      "source": [
        "# Distribution of 'SR' (Strike Rate)\n",
        "plt.figure(figsize=(8, 5))\n",
        "sns.histplot(df['SR'], bins=20, kde=True)\n",
        "plt.title('Distribution of Strike Rate')\n",
        "plt.xlabel('Strike Rate')\n",
        "plt.ylabel('Frequency')\n",
        "plt.show()"
      ],
      "metadata": {
        "colab": {
          "base_uri": "https://localhost:8080/",
          "height": 487
        },
        "id": "Zp-5PMF_i-vR",
        "outputId": "906a829e-06b0-4cd4-b2db-a41b9be8f2d9"
      },
      "execution_count": 40,
      "outputs": [
        {
          "output_type": "display_data",
          "data": {
            "text/plain": [
              "<Figure size 800x500 with 1 Axes>"
            ],
            "image/png": "[encoded data removed]"
          },
          "metadata": {}
        }
      ]
    },
    {
      "cell_type": "code",
      "source": [
        "import matplotlib.pyplot as plt\n",
        "import seaborn as sns\n",
        "\n",
        "# Boxplot of Innings\n",
        "plt.figure(figsize=(8, 5))\n",
        "sns.boxplot(x='Inns', data=df)\n",
        "plt.title('Boxplot of Innings')\n",
        "plt.xlabel('Innings')\n",
        "plt.show()"
      ],
      "metadata": {
        "colab": {
          "base_uri": "https://localhost:8080/",
          "height": 487
        },
        "id": "gp6oErMGjG_t",
        "outputId": "926f4bf8-2e68-4e84-8ea6-99b159df881b"
      },
      "execution_count": 41,
      "outputs": [
        {
          "output_type": "display_data",
          "data": {
            "text/plain": [
              "<Figure size 800x500 with 1 Axes>"
            ],
            "image/png": "[encoded data removed]"
          },
          "metadata": {}
        }
      ]
    },
    {
      "cell_type": "code",
      "source": [
        "# Distribution of 6s\n",
        "plt.figure(figsize=(8, 5))\n",
        "sns.histplot(df['6s'], bins=20, kde=True)\n",
        "plt.title('Distribution of 6s')\n",
        "plt.xlabel('6s')\n",
        "plt.ylabel('Frequency')\n",
        "plt.show()"
      ],
      "metadata": {
        "colab": {
          "base_uri": "https://localhost:8080/",
          "height": 487
        },
        "id": "lSF9tGnx0b0b",
        "outputId": "a10b44d2-4c3d-406e-ef39-6b480010b3d3"
      },
      "execution_count": 42,
      "outputs": [
        {
          "output_type": "display_data",
          "data": {
            "text/plain": [
              "<Figure size 800x500 with 1 Axes>"
            ],
            "image/png": "[encoded data removed]"
          },
          "metadata": {}
        }
      ]
    },
    {
      "cell_type": "code",
      "source": [
        "\n",
        "# # Pairplot for selected numeric columns\n",
        "# sns.pairplot(df[['Inns', 'BF', 'SR', '100s', 'Avg', 'Runs', 'Wkts']], diag_kind='kde')\n",
        "# plt.suptitle('Pairplot of Selected Columns', y=1.02)\n",
        "# plt.show()\n"
      ],
      "metadata": {
        "id": "jbhwP6YXjNyN"
      },
      "execution_count": 43,
      "outputs": []
    },
    {
      "cell_type": "code",
      "source": [
        "# Correlation heatmap\n",
        "correlation_matrix = df[['Inns', 'BF', 'SR', '100s', 'Avg', 'Runs', 'Wkts',\n",
        "                         'Team', 'Type', 'Mat', 'HS', '6s']].corr()\n",
        "plt.figure(figsize=(10, 8))\n",
        "sns.heatmap(correlation_matrix, annot=True, cmap='coolwarm', fmt=\".2f\")\n",
        "plt.title('Correlation Heatmap')\n",
        "plt.show()"
      ],
      "metadata": {
        "colab": {
          "base_uri": "https://localhost:8080/",
          "height": 754
        },
        "id": "tEx5ZK_2iWo3",
        "outputId": "9e3e8509-c106-4446-8b31-e4c0f9d7538d"
      },
      "execution_count": 44,
      "outputs": [
        {
          "output_type": "stream",
          "name": "stderr",
          "text": [
            "<ipython-input-44-8fa7a0efba04>:3: FutureWarning: The default value of numeric_only in DataFrame.corr is deprecated. In a future version, it will default to False. Select only valid columns or specify the value of numeric_only to silence this warning.\n",
            "  'Team', 'Type', 'Mat', 'HS', '6s']].corr()\n"
          ]
        },
        {
          "output_type": "display_data",
          "data": {
            "text/plain": [
              "<Figure size 1000x800 with 2 Axes>"
            ],
            "image/png": "[encoded data removed]"
          },
          "metadata": {}
        }
      ]
    },
    {
      "cell_type": "markdown",
      "source": [
        "#**Related to Batsman**\n",
        "\n",
        "#Batsman who will score the most runs\n"
      ],
      "metadata": {
        "id": "rzRwHn13kMwc"
      }
    },
    {
      "cell_type": "markdown",
      "source": [
        "##Model Preparation"
      ],
      "metadata": {
        "id": "pos0Qsqhmyak"
      }
    },
    {
      "cell_type": "code",
      "source": [
        "from sklearn.model_selection import train_test_split\n",
        "\n",
        "# Selecting features and target variable\n",
        "features = ['Inns', 'BF', '4s', '6s', 'Batting_Average', 'Strike_Rate']\n",
        "target = 'HS'\n",
        "\n",
        "# Splitting the data into train and test sets\n",
        "X = df[features]\n",
        "y = df[target]\n",
        "\n",
        "X_train, X_test, y_train, y_test = train_test_split(X, y, test_size=0.2, random_state=42)\n"
      ],
      "metadata": {
        "id": "FfbJMe2nkFDS"
      },
      "execution_count": 65,
      "outputs": []
    },
    {
      "cell_type": "markdown",
      "source": [
        "##Model building"
      ],
      "metadata": {
        "id": "KsGhOUDkm6I9"
      }
    },
    {
      "cell_type": "code",
      "source": [
        "from sklearn.metrics import mean_squared_error\n",
        "from sklearn.ensemble import RandomForestRegressor\n",
        "\n",
        "\n",
        "# Ensuring all NaN values are filled in the feature set\n",
        "X_train = X_train.fillna(X_train.median())\n",
        "X_test = X_test.fillna(X_test.median())\n",
        "\n",
        "# Building and fitting the model\n",
        "model = RandomForestRegressor(n_estimators=100, random_state=20)\n",
        "model.fit(X_train, y_train)\n",
        "\n",
        "# Making predictions and evaluating the model\n",
        "y_pred = model.predict(X_test)\n",
        "mse = mean_squared_error(y_test, y_pred)\n",
        "print(\"Mean Squared Error:\", mse)\n"
      ],
      "metadata": {
        "colab": {
          "base_uri": "https://localhost:8080/"
        },
        "id": "zlGfnv83kFE3",
        "outputId": "0f9642e7-6487-4ff0-e296-e88f9a1eed62"
      },
      "execution_count": 66,
      "outputs": [
        {
          "output_type": "stream",
          "name": "stdout",
          "text": [
            "Mean Squared Error: 1835.5248169748697\n"
          ]
        }
      ]
    },
    {
      "cell_type": "markdown",
      "source": [
        "##Saving model"
      ],
      "metadata": {
        "id": "CHlr7WFCpEV6"
      }
    },
    {
      "cell_type": "code",
      "source": [
        "import pickle\n",
        "\n",
        "# Save the model to a file\n",
        "with open('random_forest_model.pkl', 'wb') as file:\n",
        "    pickle.dump(model, file)\n",
        "\n",
        "# Save the label encoders (if they were used in preprocessing)\n",
        "for col, encoder in label_encoders.items():\n",
        "    with open(f'label_encoder_{col}.pkl', 'wb') as file:\n",
        "        pickle.dump(encoder, file)\n"
      ],
      "metadata": {
        "id": "6mTM0KPSpHIz"
      },
      "execution_count": 67,
      "outputs": []
    },
    {
      "cell_type": "markdown",
      "source": [
        "##Testing model"
      ],
      "metadata": {
        "id": "lRNcR-Y1o5e7"
      }
    },
    {
      "cell_type": "code",
      "source": [
        "X_test.shape"
      ],
      "metadata": {
        "colab": {
          "base_uri": "https://localhost:8080/"
        },
        "id": "ocJsqkdzr7b0",
        "outputId": "1bf05e12-8c6a-401f-d13e-999ed1d4d2e7"
      },
      "execution_count": 68,
      "outputs": [
        {
          "output_type": "execute_result",
          "data": {
            "text/plain": [
              "(2109, 6)"
            ]
          },
          "metadata": {},
          "execution_count": 68
        }
      ]
    },
    {
      "cell_type": "code",
      "source": [
        "\n",
        "X_new = pd.DataFrame(X_test)\n",
        "\n",
        "\n",
        "# processing new data\n",
        "# Applying the same preprocessing steps as done for the training data\n",
        "X_new['BF'] = to_numeric_BF(X_new['BF'])\n",
        "X_new['Inns'] = to_numeric(X_new['Inns'])\n",
        "X_new['4s'] = to_numeric(X_new['4s'])\n",
        "X_new['6s'] = to_numeric(X_new['6s'])\n",
        "X_new.fillna(X_new.median(), inplace=True)\n",
        "\n",
        "\n",
        "# Loading model\n",
        "with open('random_forest_model.pkl', 'rb') as file:\n",
        "    loaded_model = pickle.load(file)\n",
        "\n",
        "# Making predictions\n",
        "predicted_HS = loaded_model.predict(X_new)\n",
        "\n",
        "# The predicted_HS array now contains the predicted High Score for each row in X_new\n",
        "print(predicted_HS)\n"
      ],
      "metadata": {
        "colab": {
          "base_uri": "https://localhost:8080/"
        },
        "id": "4kYq5XCdsDje",
        "outputId": "367ff228-afbe-472c-b836-5cb3d1f09a14"
      },
      "execution_count": 69,
      "outputs": [
        {
          "output_type": "stream",
          "name": "stdout",
          "text": [
            "[5166.73    0.   1220.   ...   20.     53.      0.  ]\n"
          ]
        }
      ]
    },
    {
      "cell_type": "code",
      "source": [
        "max_sc = max(list(predicted_HS))\n",
        "print(max_sc)"
      ],
      "metadata": {
        "colab": {
          "base_uri": "https://localhost:8080/"
        },
        "id": "yC9tyVgdsKEs",
        "outputId": "bea73fac-daa6-4e10-fb17-e7b2903e2a35"
      },
      "execution_count": 70,
      "outputs": [
        {
          "output_type": "stream",
          "name": "stdout",
          "text": [
            "9144.49\n"
          ]
        }
      ]
    },
    {
      "cell_type": "code",
      "source": [
        "score = list(predicted_HS)\n",
        "print('Index of the predicted high score batsman is :', score.index(9144.49))  # code to get batsman index"
      ],
      "metadata": {
        "colab": {
          "base_uri": "https://localhost:8080/"
        },
        "id": "nC_Bgj4_7p57",
        "outputId": "5db174b0-1a51-4534-cc82-971f56143eb5"
      },
      "execution_count": 71,
      "outputs": [
        {
          "output_type": "stream",
          "name": "stdout",
          "text": [
            "Index of the predicted high score batsman is : 349\n"
          ]
        }
      ]
    },
    {
      "cell_type": "code",
      "source": [
        "index_to_find = 349  # Replace with your actual index\n",
        "batsman_id = df.iloc[index_to_find]['Id']\n",
        "print(f\"The ID of the batsman at index {index_to_find} is {batsman_id}\")\n"
      ],
      "metadata": {
        "colab": {
          "base_uri": "https://localhost:8080/"
        },
        "id": "sWcxE1_V3WqX",
        "outputId": "f4d112b5-049e-4eeb-f140-1284ca52077e"
      },
      "execution_count": 72,
      "outputs": [
        {
          "output_type": "stream",
          "name": "stdout",
          "text": [
            "The ID of the batsman at index 349 is azmatullah omarzai \n"
          ]
        }
      ]
    },
    {
      "cell_type": "markdown",
      "source": [
        "#Batsman who will hit most sixes"
      ],
      "metadata": {
        "id": "Xnii2DfI1vCx"
      }
    },
    {
      "cell_type": "markdown",
      "source": [
        "##Model Preparation"
      ],
      "metadata": {
        "id": "BtXg67TU16xg"
      }
    },
    {
      "cell_type": "code",
      "source": [
        "from sklearn.model_selection import train_test_split\n",
        "\n",
        "# Selecting features and target variable\n",
        "features = ['Inns', 'BF', '4s', 'HS', 'Batting_Average', 'Strike_Rate']\n",
        "target = '6s'\n",
        "\n",
        "# Splitting the data into train and test sets\n",
        "X = df[features]\n",
        "y = df[target]\n",
        "\n",
        "X_train, X_test, y_train, y_test = train_test_split(X, y, test_size=0.2, random_state=20)\n"
      ],
      "metadata": {
        "id": "5pA4VXTW16xh"
      },
      "execution_count": 119,
      "outputs": []
    },
    {
      "cell_type": "markdown",
      "source": [
        "##Model building"
      ],
      "metadata": {
        "id": "YyiYKHHq16xh"
      }
    },
    {
      "cell_type": "code",
      "source": [
        "from sklearn.metrics import mean_squared_error\n",
        "\n",
        "\n",
        "# Ensuring all NaN values are filled in the feature set\n",
        "X_train = X_train.fillna(X_train.median())\n",
        "X_test = X_test.fillna(X_test.median())\n",
        "\n",
        "# Building and fitting the model\n",
        "model = RandomForestRegressor(n_estimators=100, random_state=42)\n",
        "model.fit(X_train, y_train)\n",
        "\n",
        "# Making predictions and evaluating the model\n",
        "y_pred = model.predict(X_test)\n",
        "mse = mean_squared_error(y_test, y_pred)\n",
        "print(\"Mean Squared Error:\", mse)\n"
      ],
      "metadata": {
        "colab": {
          "base_uri": "https://localhost:8080/"
        },
        "outputId": "ad7dc90d-2b4a-44b6-dcd5-01dd8c3aa924",
        "id": "XZzwOvN316xi"
      },
      "execution_count": 120,
      "outputs": [
        {
          "output_type": "stream",
          "name": "stdout",
          "text": [
            "Mean Squared Error: 19.20756154575628\n"
          ]
        }
      ]
    },
    {
      "cell_type": "markdown",
      "source": [
        "##Saving model"
      ],
      "metadata": {
        "id": "aPr2qKC_16xi"
      }
    },
    {
      "cell_type": "code",
      "source": [
        "import pickle\n",
        "\n",
        "# Save the model to a file\n",
        "with open('random_forest_model.pkl', 'wb') as file:\n",
        "    pickle.dump(model, file)\n",
        "\n",
        "# Save the label encoders (if they were used in preprocessing)\n",
        "for col, encoder in label_encoders.items():\n",
        "    with open(f'label_encoder_{col}.pkl', 'wb') as file:\n",
        "        pickle.dump(encoder, file)\n",
        "\n",
        "# If there were other preprocessing steps whose parameters need to be saved, do that here\n"
      ],
      "metadata": {
        "id": "PZrx-4uw16xj"
      },
      "execution_count": 121,
      "outputs": []
    },
    {
      "cell_type": "markdown",
      "source": [
        "##Testing model"
      ],
      "metadata": {
        "id": "14GqHeTa16xj"
      }
    },
    {
      "cell_type": "code",
      "source": [
        "X_new = pd.DataFrame(X_test)\n",
        "\n",
        "\n",
        "# Applying the same preprocessing steps as done for the training data\n",
        "X_new['BF'] = to_numeric_BF(X_new['BF'])\n",
        "X_new['Inns'] = to_numeric(X_new['Inns'])\n",
        "X_new['4s'] = to_numeric(X_new['4s'])\n",
        "X_new.fillna(X_new.median(), inplace=True)\n",
        "\n",
        "\n",
        "# Loading model\n",
        "with open('random_forest_model.pkl', 'rb') as file:\n",
        "    loaded_model = pickle.load(file)\n",
        "\n",
        "# Making predictions\n",
        "predicted_sixes = loaded_model.predict(X_new)\n",
        "\n",
        "# The predicted_sixes array now contains the predicted High Score for each row in X_new\n",
        "print(predicted_sixes)\n"
      ],
      "metadata": {
        "colab": {
          "base_uri": "https://localhost:8080/"
        },
        "outputId": "54cbf82f-12cc-47df-b176-19df9c6fc853",
        "id": "9qFHlz2K-ZZ9"
      },
      "execution_count": 122,
      "outputs": [
        {
          "output_type": "stream",
          "name": "stdout",
          "text": [
            "[ 0.   17.95 51.37 ...  0.   22.1   2.26]\n"
          ]
        }
      ]
    },
    {
      "cell_type": "code",
      "source": [
        "max_sc = max(list(predicted_sixes))\n",
        "print(max_sc)"
      ],
      "metadata": {
        "colab": {
          "base_uri": "https://localhost:8080/"
        },
        "outputId": "c8ac4da6-3b9d-484f-ba63-8d766648e2aa",
        "id": "vw6so3Os-ZZ9"
      },
      "execution_count": 123,
      "outputs": [
        {
          "output_type": "stream",
          "name": "stdout",
          "text": [
            "853.34\n"
          ]
        }
      ]
    },
    {
      "cell_type": "code",
      "source": [
        "score = list(predicted_sixes)\n",
        "print('Index of the predicted high score batsman is :', score.index(853.34))  # code to get batsman index"
      ],
      "metadata": {
        "colab": {
          "base_uri": "https://localhost:8080/"
        },
        "outputId": "26a9c3b9-457b-49c3-9ca0-27df768735a8",
        "id": "5eFJRVoe-ZZ-"
      },
      "execution_count": 124,
      "outputs": [
        {
          "output_type": "stream",
          "name": "stdout",
          "text": [
            "Index of the predicted high score batsman is : 757\n"
          ]
        }
      ]
    },
    {
      "cell_type": "code",
      "source": [
        "index_to_find = 757  # Replace with your actual index\n",
        "batsman_id = df.iloc[index_to_find]['Id']\n",
        "print(f\"The ID of the batsman at index {index_to_find} is {batsman_id}\")\n"
      ],
      "metadata": {
        "colab": {
          "base_uri": "https://localhost:8080/"
        },
        "outputId": "709a611e-dc8e-4e54-f835-2061616a0b2d",
        "id": "eMuvk2Zz-ZZ-"
      },
      "execution_count": 125,
      "outputs": [
        {
          "output_type": "stream",
          "name": "stdout",
          "text": [
            "The ID of the batsman at index 757 is matt henry \n"
          ]
        }
      ]
    },
    {
      "cell_type": "markdown",
      "source": [
        "#Batsman who will make the most centuries in the tournament."
      ],
      "metadata": {
        "id": "y1EoSA1e7Ekr"
      }
    },
    {
      "cell_type": "markdown",
      "source": [
        "##Model Preparation"
      ],
      "metadata": {
        "id": "3pEmXoV08VJy"
      }
    },
    {
      "cell_type": "code",
      "source": [
        "df.head(2)"
      ],
      "metadata": {
        "colab": {
          "base_uri": "https://localhost:8080/",
          "height": 167
        },
        "id": "yKo5cCva9b5x",
        "outputId": "d38f7549-cbc0-45ce-9506-5aaf779cbc5e"
      },
      "execution_count": 239,
      "outputs": [
        {
          "output_type": "execute_result",
          "data": {
            "text/plain": [
              "                      Id  Team  Type  Career  Context  Span  Mat  Inns   HS  BF   SR  100s  50s 0s  4s  6s   Avg  NO Overs Mdns Runs Wkts Econ 4w  5w  10w BBI BBM  Batting_Average  Strike_Rate\n",
              "0  hashmatullah shahidi      0     7       8      170     0  147     6  375  53  833    45    0  1   0  46  200*  12     0    0    5    0    0  0   0    0   0   0             62.5     5.207547\n",
              "1  hashmatullah shahidi      0     7       8      216     0  152     2   48  16   99    48    0  0   0   7    14   4     0    0    1    0    0  0   0    0   0   0             24.0     2.625000"
            ],
            "text/html": [
              "\n",
              "  <div id=\"df-f973750b-00bc-4738-8fdd-cd6a8edc6a57\" class=\"colab-df-container\">\n",
              "    <div>\n",
              "<style scoped>\n",
              "    .dataframe tbody tr th:only-of-type {\n",
              "        vertical-align: middle;\n",
              "    }\n",
              "\n",
              "    .dataframe tbody tr th {\n",
              "        vertical-align: top;\n",
              "    }\n",
              "\n",
              "    .dataframe thead th {\n",
              "        text-align: right;\n",
              "    }\n",
              "</style>\n",
              "<table border=\"1\" class=\"dataframe\">\n",
              "  <thead>\n",
              "    <tr style=\"text-align: right;\">\n",
              "      <th></th>\n",
              "      <th>Id</th>\n",
              "      <th>Team</th>\n",
              "      <th>Type</th>\n",
              "      <th>Career</th>\n",
              "      <th>Context</th>\n",
              "      <th>Span</th>\n",
              "      <th>Mat</th>\n",
              "      <th>Inns</th>\n",
              "      <th>HS</th>\n",
              "      <th>BF</th>\n",
              "      <th>SR</th>\n",
              "      <th>100s</th>\n",
              "      <th>50s</th>\n",
              "      <th>0s</th>\n",
              "      <th>4s</th>\n",
              "      <th>6s</th>\n",
              "      <th>Avg</th>\n",
              "      <th>NO</th>\n",
              "      <th>Overs</th>\n",
              "      <th>Mdns</th>\n",
              "      <th>Runs</th>\n",
              "      <th>Wkts</th>\n",
              "      <th>Econ</th>\n",
              "      <th>4w</th>\n",
              "      <th>5w</th>\n",
              "      <th>10w</th>\n",
              "      <th>BBI</th>\n",
              "      <th>BBM</th>\n",
              "      <th>Batting_Average</th>\n",
              "      <th>Strike_Rate</th>\n",
              "    </tr>\n",
              "  </thead>\n",
              "  <tbody>\n",
              "    <tr>\n",
              "      <th>0</th>\n",
              "      <td>hashmatullah shahidi</td>\n",
              "      <td>0</td>\n",
              "      <td>7</td>\n",
              "      <td>8</td>\n",
              "      <td>170</td>\n",
              "      <td>0</td>\n",
              "      <td>147</td>\n",
              "      <td>6</td>\n",
              "      <td>375</td>\n",
              "      <td>53</td>\n",
              "      <td>833</td>\n",
              "      <td>45</td>\n",
              "      <td>0</td>\n",
              "      <td>1</td>\n",
              "      <td>0</td>\n",
              "      <td>46</td>\n",
              "      <td>200*</td>\n",
              "      <td>12</td>\n",
              "      <td>0</td>\n",
              "      <td>0</td>\n",
              "      <td>5</td>\n",
              "      <td>0</td>\n",
              "      <td>0</td>\n",
              "      <td>0</td>\n",
              "      <td>0</td>\n",
              "      <td>0</td>\n",
              "      <td>0</td>\n",
              "      <td>0</td>\n",
              "      <td>62.5</td>\n",
              "      <td>5.207547</td>\n",
              "    </tr>\n",
              "    <tr>\n",
              "      <th>1</th>\n",
              "      <td>hashmatullah shahidi</td>\n",
              "      <td>0</td>\n",
              "      <td>7</td>\n",
              "      <td>8</td>\n",
              "      <td>216</td>\n",
              "      <td>0</td>\n",
              "      <td>152</td>\n",
              "      <td>2</td>\n",
              "      <td>48</td>\n",
              "      <td>16</td>\n",
              "      <td>99</td>\n",
              "      <td>48</td>\n",
              "      <td>0</td>\n",
              "      <td>0</td>\n",
              "      <td>0</td>\n",
              "      <td>7</td>\n",
              "      <td>14</td>\n",
              "      <td>4</td>\n",
              "      <td>0</td>\n",
              "      <td>0</td>\n",
              "      <td>1</td>\n",
              "      <td>0</td>\n",
              "      <td>0</td>\n",
              "      <td>0</td>\n",
              "      <td>0</td>\n",
              "      <td>0</td>\n",
              "      <td>0</td>\n",
              "      <td>0</td>\n",
              "      <td>24.0</td>\n",
              "      <td>2.625000</td>\n",
              "    </tr>\n",
              "  </tbody>\n",
              "</table>\n",
              "</div>\n",
              "    <div class=\"colab-df-buttons\">\n",
              "\n",
              "  <div class=\"colab-df-container\">\n",
              "    <button class=\"colab-df-convert\" onclick=\"convertToInteractive('df-f973750b-00bc-4738-8fdd-cd6a8edc6a57')\"\n",
              "            title=\"Convert this dataframe to an interactive table.\"\n",
              "            style=\"display:none;\">\n",
              "\n",
              "  <svg xmlns=\"http://www.w3.org/2000/svg\" height=\"24px\" viewBox=\"0 -960 960 960\">\n",
              "    <path d=\"M120-120v-720h720v720H120Zm60-500h600v-160H180v160Zm220 220h160v-160H400v160Zm0 220h160v-160H400v160ZM180-400h160v-160H180v160Zm440 0h160v-160H620v160ZM180-180h160v-160H180v160Zm440 0h160v-160H620v160Z\"/>\n",
              "  </svg>\n",
              "    </button>\n",
              "\n",
              "  <style>\n",
              "    .colab-df-container {\n",
              "      display:flex;\n",
              "      gap: 12px;\n",
              "    }\n",
              "\n",
              "    .colab-df-convert {\n",
              "      background-color: #E8F0FE;\n",
              "      border: none;\n",
              "      border-radius: 50%;\n",
              "      cursor: pointer;\n",
              "      display: none;\n",
              "      fill: #1967D2;\n",
              "      height: 32px;\n",
              "      padding: 0 0 0 0;\n",
              "      width: 32px;\n",
              "    }\n",
              "\n",
              "    .colab-df-convert:hover {\n",
              "      background-color: #E2EBFA;\n",
              "      box-shadow: 0px 1px 2px rgba(60, 64, 67, 0.3), 0px 1px 3px 1px rgba(60, 64, 67, 0.15);\n",
              "      fill: #174EA6;\n",
              "    }\n",
              "\n",
              "    .colab-df-buttons div {\n",
              "      margin-bottom: 4px;\n",
              "    }\n",
              "\n",
              "    [theme=dark] .colab-df-convert {\n",
              "      background-color: #3B4455;\n",
              "      fill: #D2E3FC;\n",
              "    }\n",
              "\n",
              "    [theme=dark] .colab-df-convert:hover {\n",
              "      background-color: #434B5C;\n",
              "      box-shadow: 0px 1px 3px 1px rgba(0, 0, 0, 0.15);\n",
              "      filter: drop-shadow(0px 1px 2px rgba(0, 0, 0, 0.3));\n",
              "      fill: #FFFFFF;\n",
              "    }\n",
              "  </style>\n",
              "\n",
              "    <script>\n",
              "      const buttonEl =\n",
              "        document.querySelector('#df-f973750b-00bc-4738-8fdd-cd6a8edc6a57 button.colab-df-convert');\n",
              "      buttonEl.style.display =\n",
              "        google.colab.kernel.accessAllowed ? 'block' : 'none';\n",
              "\n",
              "      async function convertToInteractive(key) {\n",
              "        const element = document.querySelector('#df-f973750b-00bc-4738-8fdd-cd6a8edc6a57');\n",
              "        const dataTable =\n",
              "          await google.colab.kernel.invokeFunction('convertToInteractive',\n",
              "                                                    [key], {});\n",
              "        if (!dataTable) return;\n",
              "\n",
              "        const docLinkHtml = 'Like what you see? Visit the ' +\n",
              "          '<a target=\"_blank\" href=https://colab.research.google.com/notebooks/data_table.ipynb>data table notebook</a>'\n",
              "          + ' to learn more about interactive tables.';\n",
              "        element.innerHTML = '';\n",
              "        dataTable['output_type'] = 'display_data';\n",
              "        await google.colab.output.renderOutput(dataTable, element);\n",
              "        const docLink = document.createElement('div');\n",
              "        docLink.innerHTML = docLinkHtml;\n",
              "        element.appendChild(docLink);\n",
              "      }\n",
              "    </script>\n",
              "  </div>\n",
              "\n",
              "\n",
              "<div id=\"df-abf39ab8-548f-499a-a949-df697caa48d0\">\n",
              "  <button class=\"colab-df-quickchart\" onclick=\"quickchart('df-abf39ab8-548f-499a-a949-df697caa48d0')\"\n",
              "            title=\"Suggest charts\"\n",
              "            style=\"display:none;\">\n",
              "\n",
              "<svg xmlns=\"http://www.w3.org/2000/svg\" height=\"24px\"viewBox=\"0 0 24 24\"\n",
              "     width=\"24px\">\n",
              "    <g>\n",
              "        <path d=\"M19 3H5c-1.1 0-2 .9-2 2v14c0 1.1.9 2 2 2h14c1.1 0 2-.9 2-2V5c0-1.1-.9-2-2-2zM9 17H7v-7h2v7zm4 0h-2V7h2v10zm4 0h-2v-4h2v4z\"/>\n",
              "    </g>\n",
              "</svg>\n",
              "  </button>\n",
              "\n",
              "<style>\n",
              "  .colab-df-quickchart {\n",
              "      --bg-color: #E8F0FE;\n",
              "      --fill-color: #1967D2;\n",
              "      --hover-bg-color: #E2EBFA;\n",
              "      --hover-fill-color: #174EA6;\n",
              "      --disabled-fill-color: #AAA;\n",
              "      --disabled-bg-color: #DDD;\n",
              "  }\n",
              "\n",
              "  [theme=dark] .colab-df-quickchart {\n",
              "      --bg-color: #3B4455;\n",
              "      --fill-color: #D2E3FC;\n",
              "      --hover-bg-color: #434B5C;\n",
              "      --hover-fill-color: #FFFFFF;\n",
              "      --disabled-bg-color: #3B4455;\n",
              "      --disabled-fill-color: #666;\n",
              "  }\n",
              "\n",
              "  .colab-df-quickchart {\n",
              "    background-color: var(--bg-color);\n",
              "    border: none;\n",
              "    border-radius: 50%;\n",
              "    cursor: pointer;\n",
              "    display: none;\n",
              "    fill: var(--fill-color);\n",
              "    height: 32px;\n",
              "    padding: 0;\n",
              "    width: 32px;\n",
              "  }\n",
              "\n",
              "  .colab-df-quickchart:hover {\n",
              "    background-color: var(--hover-bg-color);\n",
              "    box-shadow: 0 1px 2px rgba(60, 64, 67, 0.3), 0 1px 3px 1px rgba(60, 64, 67, 0.15);\n",
              "    fill: var(--button-hover-fill-color);\n",
              "  }\n",
              "\n",
              "  .colab-df-quickchart-complete:disabled,\n",
              "  .colab-df-quickchart-complete:disabled:hover {\n",
              "    background-color: var(--disabled-bg-color);\n",
              "    fill: var(--disabled-fill-color);\n",
              "    box-shadow: none;\n",
              "  }\n",
              "\n",
              "  .colab-df-spinner {\n",
              "    border: 2px solid var(--fill-color);\n",
              "    border-color: transparent;\n",
              "    border-bottom-color: var(--fill-color);\n",
              "    animation:\n",
              "      spin 1s steps(1) infinite;\n",
              "  }\n",
              "\n",
              "  @keyframes spin {\n",
              "    0% {\n",
              "      border-color: transparent;\n",
              "      border-bottom-color: var(--fill-color);\n",
              "      border-left-color: var(--fill-color);\n",
              "    }\n",
              "    20% {\n",
              "      border-color: transparent;\n",
              "      border-left-color: var(--fill-color);\n",
              "      border-top-color: var(--fill-color);\n",
              "    }\n",
              "    30% {\n",
              "      border-color: transparent;\n",
              "      border-left-color: var(--fill-color);\n",
              "      border-top-color: var(--fill-color);\n",
              "      border-right-color: var(--fill-color);\n",
              "    }\n",
              "    40% {\n",
              "      border-color: transparent;\n",
              "      border-right-color: var(--fill-color);\n",
              "      border-top-color: var(--fill-color);\n",
              "    }\n",
              "    60% {\n",
              "      border-color: transparent;\n",
              "      border-right-color: var(--fill-color);\n",
              "    }\n",
              "    80% {\n",
              "      border-color: transparent;\n",
              "      border-right-color: var(--fill-color);\n",
              "      border-bottom-color: var(--fill-color);\n",
              "    }\n",
              "    90% {\n",
              "      border-color: transparent;\n",
              "      border-bottom-color: var(--fill-color);\n",
              "    }\n",
              "  }\n",
              "</style>\n",
              "\n",
              "  <script>\n",
              "    async function quickchart(key) {\n",
              "      const quickchartButtonEl =\n",
              "        document.querySelector('#' + key + ' button');\n",
              "      quickchartButtonEl.disabled = true;  // To prevent multiple clicks.\n",
              "      quickchartButtonEl.classList.add('colab-df-spinner');\n",
              "      try {\n",
              "        const charts = await google.colab.kernel.invokeFunction(\n",
              "            'suggestCharts', [key], {});\n",
              "      } catch (error) {\n",
              "        console.error('Error during call to suggestCharts:', error);\n",
              "      }\n",
              "      quickchartButtonEl.classList.remove('colab-df-spinner');\n",
              "      quickchartButtonEl.classList.add('colab-df-quickchart-complete');\n",
              "    }\n",
              "    (() => {\n",
              "      let quickchartButtonEl =\n",
              "        document.querySelector('#df-abf39ab8-548f-499a-a949-df697caa48d0 button');\n",
              "      quickchartButtonEl.style.display =\n",
              "        google.colab.kernel.accessAllowed ? 'block' : 'none';\n",
              "    })();\n",
              "  </script>\n",
              "</div>\n",
              "    </div>\n",
              "  </div>\n"
            ]
          },
          "metadata": {},
          "execution_count": 239
        }
      ]
    },
    {
      "cell_type": "code",
      "source": [
        "from sklearn.model_selection import train_test_split\n",
        "\n",
        "# Selecting features and target variable\n",
        "features = ['Inns', 'BF', '6s', 'Batting_Average', 'Strike_Rate']\n",
        "target = '100s'\n",
        "\n",
        "# Splitting the data into train and test sets\n",
        "X = df[features]\n",
        "y = df[target]\n",
        "\n",
        "X_train, X_test, y_train, y_test = train_test_split(X, y, test_size=0.2, random_state=42)\n"
      ],
      "metadata": {
        "id": "S_yLH0tA8VJz"
      },
      "execution_count": 240,
      "outputs": []
    },
    {
      "cell_type": "markdown",
      "source": [
        "##Model building"
      ],
      "metadata": {
        "id": "b-jspcLK8VJz"
      }
    },
    {
      "cell_type": "code",
      "source": [
        "from sklearn.metrics import mean_squared_error\n",
        "\n",
        "X_train['6s'] = pd.to_numeric(X_train['6s'], errors='coerce')\n",
        "X_test['6s'] = pd.to_numeric(X_test['6s'], errors='coerce')\n",
        "# Ensuring all NaN values are filled in the feature set\n",
        "X_train = X_train.fillna(X_train.median())\n",
        "X_test = X_test.fillna(X_test.median())\n",
        "\n",
        "# Building and fitting the model\n",
        "model = RandomForestRegressor(n_estimators=100, random_state=42)\n",
        "model.fit(X_train, y_train)\n",
        "\n",
        "# Making predictions and evaluating the model\n",
        "y_pred = model.predict(X_test)\n",
        "mse = mean_squared_error(y_test, y_pred)\n",
        "print(\"Mean Squared Error:\", mse)\n"
      ],
      "metadata": {
        "colab": {
          "base_uri": "https://localhost:8080/"
        },
        "outputId": "8506b059-07be-44f4-ee45-10ca231ce166",
        "id": "2nz2KZNH8VJz"
      },
      "execution_count": 241,
      "outputs": [
        {
          "output_type": "stream",
          "name": "stdout",
          "text": [
            "Mean Squared Error: 107.3521431945996\n"
          ]
        }
      ]
    },
    {
      "cell_type": "markdown",
      "source": [
        "##Saving model"
      ],
      "metadata": {
        "id": "iAb-wHgN8VJ0"
      }
    },
    {
      "cell_type": "code",
      "source": [
        "import pickle\n",
        "\n",
        "# Save the model to a file\n",
        "with open('random_forest_model.pkl', 'wb') as file:\n",
        "    pickle.dump(model, file)\n",
        "\n",
        "# Save the label encoders (if they were used in preprocessing)\n",
        "for col, encoder in label_encoders.items():\n",
        "    with open(f'label_encoder_{col}.pkl', 'wb') as file:\n",
        "        pickle.dump(encoder, file)\n",
        "\n",
        "# If there were other preprocessing steps whose parameters need to be saved, do that here\n"
      ],
      "metadata": {
        "id": "OoNH7wbM8VJ0"
      },
      "execution_count": 242,
      "outputs": []
    },
    {
      "cell_type": "markdown",
      "source": [
        "##Testing model"
      ],
      "metadata": {
        "id": "cO-kzxoN8VJ1"
      }
    },
    {
      "cell_type": "code",
      "source": [
        "X_test.shape"
      ],
      "metadata": {
        "colab": {
          "base_uri": "https://localhost:8080/"
        },
        "outputId": "11ec93e5-27c5-4973-c683-5e1984657e9c",
        "id": "GN7KEFbv8VJ1"
      },
      "execution_count": 243,
      "outputs": [
        {
          "output_type": "execute_result",
          "data": {
            "text/plain": [
              "(2109, 5)"
            ]
          },
          "metadata": {},
          "execution_count": 243
        }
      ]
    },
    {
      "cell_type": "code",
      "source": [
        "X_new = pd.DataFrame(X_test)\n",
        "\n",
        "# processing new data\n",
        "# Applying the same preprocessing steps as done for the training data\n",
        "X_new['BF'] = to_numeric_BF(X_new['BF'])\n",
        "X_new['Inns'] = to_numeric(X_new['Inns'])\n",
        "X_new['6s'] = to_numeric(X_new['6s'])\n",
        "\n",
        "X_new.fillna(X_new.median(), inplace=True)\n",
        "\n",
        "# Loading model\n",
        "with open('random_forest_model.pkl', 'rb') as file:\n",
        "    loaded_model = pickle.load(file)\n",
        "\n",
        "# Making predictions\n",
        "predicted_centuries = loaded_model.predict(X_new)\n",
        "\n",
        "# The predicted_centuries array now contains the predicted High Score for each row in X_new\n",
        "print(predicted_centuries)\n"
      ],
      "metadata": {
        "colab": {
          "base_uri": "https://localhost:8080/"
        },
        "id": "aNSg2Fbl-QCL",
        "outputId": "8b7ef688-b11a-407b-9500-8aa3f88e205e"
      },
      "execution_count": 244,
      "outputs": [
        {
          "output_type": "stream",
          "name": "stdout",
          "text": [
            "[48.48        0.         44.         ... 41.88399225 44.\n",
            "  0.        ]\n"
          ]
        }
      ]
    },
    {
      "cell_type": "code",
      "source": [
        "max_sc = max(list(predicted_centuries))\n",
        "print(max_sc)"
      ],
      "metadata": {
        "colab": {
          "base_uri": "https://localhost:8080/"
        },
        "outputId": "3a6ba967-08e1-413a-aa21-c72606755c67",
        "id": "c_mPv8FFEYgw"
      },
      "execution_count": 245,
      "outputs": [
        {
          "output_type": "stream",
          "name": "stdout",
          "text": [
            "141.08\n"
          ]
        }
      ]
    },
    {
      "cell_type": "code",
      "source": [
        "score = list(predicted_centuries)\n",
        "print('Index of the predicted high score batsman is :', score.index(141.08))  # code to get batsman index"
      ],
      "metadata": {
        "colab": {
          "base_uri": "https://localhost:8080/"
        },
        "outputId": "0d98e9ba-5d39-402a-8060-fe54c726bf7e",
        "id": "FBmYFVAVEYgx"
      },
      "execution_count": 247,
      "outputs": [
        {
          "output_type": "stream",
          "name": "stdout",
          "text": [
            "Index of the predicted high score batsman is : 1408\n"
          ]
        }
      ]
    },
    {
      "cell_type": "code",
      "source": [
        "index_to_find = 1408  # Replace with your actual index\n",
        "batsman_id = df.iloc[index_to_find]['Id']\n",
        "print(f\"The ID of the batsman at index {index_to_find} is {batsman_id}\")\n"
      ],
      "metadata": {
        "colab": {
          "base_uri": "https://localhost:8080/"
        },
        "outputId": "edc8dde3-ceb5-4bbb-bc2b-d7613c8915f2",
        "id": "09yS081tEYgy"
      },
      "execution_count": 248,
      "outputs": [
        {
          "output_type": "stream",
          "name": "stdout",
          "text": [
            "The ID of the batsman at index 1408 is steven smith \n"
          ]
        }
      ]
    },
    {
      "cell_type": "markdown",
      "source": [
        "#**Related to BOWLER**\n",
        "\n",
        "##Predicting the bowler who will be the leading wicket-taker in the tournament.\n"
      ],
      "metadata": {
        "id": "bH9TA4Hg6dKQ"
      }
    },
    {
      "cell_type": "markdown",
      "source": [
        "##Model Preparation"
      ],
      "metadata": {
        "id": "Vr5ODZ2Z6qTR"
      }
    },
    {
      "cell_type": "code",
      "source": [
        "df.head(2)"
      ],
      "metadata": {
        "colab": {
          "base_uri": "https://localhost:8080/",
          "height": 167
        },
        "outputId": "05433f86-3a93-4f3a-9378-1f2a8de526e2",
        "id": "qT7T_d6a6qTR"
      },
      "execution_count": 174,
      "outputs": [
        {
          "output_type": "execute_result",
          "data": {
            "text/plain": [
              "                      Id  Team  Type  Career  Context  Span  Mat  Inns   HS  BF   SR  100s  50s 0s  4s  6s   Avg  NO Overs Mdns Runs Wkts Econ 4w  5w  10w BBI BBM  Batting_Average  Strike_Rate\n",
              "0  hashmatullah shahidi      0     7       8      170     0  147     6  375  53  833    45    0  1   0  46  200*  12     0    0    5    0    0  0   0    0   0   0             62.5     5.207547\n",
              "1  hashmatullah shahidi      0     7       8      216     0  152     2   48  16   99    48    0  0   0   7    14   4     0    0    1    0    0  0   0    0   0   0             24.0     2.625000"
            ],
            "text/html": [
              "\n",
              "  <div id=\"df-de27d6bd-8277-419b-ae6f-dbcd8a74893d\" class=\"colab-df-container\">\n",
              "    <div>\n",
              "<style scoped>\n",
              "    .dataframe tbody tr th:only-of-type {\n",
              "        vertical-align: middle;\n",
              "    }\n",
              "\n",
              "    .dataframe tbody tr th {\n",
              "        vertical-align: top;\n",
              "    }\n",
              "\n",
              "    .dataframe thead th {\n",
              "        text-align: right;\n",
              "    }\n",
              "</style>\n",
              "<table border=\"1\" class=\"dataframe\">\n",
              "  <thead>\n",
              "    <tr style=\"text-align: right;\">\n",
              "      <th></th>\n",
              "      <th>Id</th>\n",
              "      <th>Team</th>\n",
              "      <th>Type</th>\n",
              "      <th>Career</th>\n",
              "      <th>Context</th>\n",
              "      <th>Span</th>\n",
              "      <th>Mat</th>\n",
              "      <th>Inns</th>\n",
              "      <th>HS</th>\n",
              "      <th>BF</th>\n",
              "      <th>SR</th>\n",
              "      <th>100s</th>\n",
              "      <th>50s</th>\n",
              "      <th>0s</th>\n",
              "      <th>4s</th>\n",
              "      <th>6s</th>\n",
              "      <th>Avg</th>\n",
              "      <th>NO</th>\n",
              "      <th>Overs</th>\n",
              "      <th>Mdns</th>\n",
              "      <th>Runs</th>\n",
              "      <th>Wkts</th>\n",
              "      <th>Econ</th>\n",
              "      <th>4w</th>\n",
              "      <th>5w</th>\n",
              "      <th>10w</th>\n",
              "      <th>BBI</th>\n",
              "      <th>BBM</th>\n",
              "      <th>Batting_Average</th>\n",
              "      <th>Strike_Rate</th>\n",
              "    </tr>\n",
              "  </thead>\n",
              "  <tbody>\n",
              "    <tr>\n",
              "      <th>0</th>\n",
              "      <td>hashmatullah shahidi</td>\n",
              "      <td>0</td>\n",
              "      <td>7</td>\n",
              "      <td>8</td>\n",
              "      <td>170</td>\n",
              "      <td>0</td>\n",
              "      <td>147</td>\n",
              "      <td>6</td>\n",
              "      <td>375</td>\n",
              "      <td>53</td>\n",
              "      <td>833</td>\n",
              "      <td>45</td>\n",
              "      <td>0</td>\n",
              "      <td>1</td>\n",
              "      <td>0</td>\n",
              "      <td>46</td>\n",
              "      <td>200*</td>\n",
              "      <td>12</td>\n",
              "      <td>0</td>\n",
              "      <td>0</td>\n",
              "      <td>5</td>\n",
              "      <td>0</td>\n",
              "      <td>0</td>\n",
              "      <td>0</td>\n",
              "      <td>0</td>\n",
              "      <td>0</td>\n",
              "      <td>0</td>\n",
              "      <td>0</td>\n",
              "      <td>62.5</td>\n",
              "      <td>5.207547</td>\n",
              "    </tr>\n",
              "    <tr>\n",
              "      <th>1</th>\n",
              "      <td>hashmatullah shahidi</td>\n",
              "      <td>0</td>\n",
              "      <td>7</td>\n",
              "      <td>8</td>\n",
              "      <td>216</td>\n",
              "      <td>0</td>\n",
              "      <td>152</td>\n",
              "      <td>2</td>\n",
              "      <td>48</td>\n",
              "      <td>16</td>\n",
              "      <td>99</td>\n",
              "      <td>48</td>\n",
              "      <td>0</td>\n",
              "      <td>0</td>\n",
              "      <td>0</td>\n",
              "      <td>7</td>\n",
              "      <td>14</td>\n",
              "      <td>4</td>\n",
              "      <td>0</td>\n",
              "      <td>0</td>\n",
              "      <td>1</td>\n",
              "      <td>0</td>\n",
              "      <td>0</td>\n",
              "      <td>0</td>\n",
              "      <td>0</td>\n",
              "      <td>0</td>\n",
              "      <td>0</td>\n",
              "      <td>0</td>\n",
              "      <td>24.0</td>\n",
              "      <td>2.625000</td>\n",
              "    </tr>\n",
              "  </tbody>\n",
              "</table>\n",
              "</div>\n",
              "    <div class=\"colab-df-buttons\">\n",
              "\n",
              "  <div class=\"colab-df-container\">\n",
              "    <button class=\"colab-df-convert\" onclick=\"convertToInteractive('df-de27d6bd-8277-419b-ae6f-dbcd8a74893d')\"\n",
              "            title=\"Convert this dataframe to an interactive table.\"\n",
              "            style=\"display:none;\">\n",
              "\n",
              "  <svg xmlns=\"http://www.w3.org/2000/svg\" height=\"24px\" viewBox=\"0 -960 960 960\">\n",
              "    <path d=\"M120-120v-720h720v720H120Zm60-500h600v-160H180v160Zm220 220h160v-160H400v160Zm0 220h160v-160H400v160ZM180-400h160v-160H180v160Zm440 0h160v-160H620v160ZM180-180h160v-160H180v160Zm440 0h160v-160H620v160Z\"/>\n",
              "  </svg>\n",
              "    </button>\n",
              "\n",
              "  <style>\n",
              "    .colab-df-container {\n",
              "      display:flex;\n",
              "      gap: 12px;\n",
              "    }\n",
              "\n",
              "    .colab-df-convert {\n",
              "      background-color: #E8F0FE;\n",
              "      border: none;\n",
              "      border-radius: 50%;\n",
              "      cursor: pointer;\n",
              "      display: none;\n",
              "      fill: #1967D2;\n",
              "      height: 32px;\n",
              "      padding: 0 0 0 0;\n",
              "      width: 32px;\n",
              "    }\n",
              "\n",
              "    .colab-df-convert:hover {\n",
              "      background-color: #E2EBFA;\n",
              "      box-shadow: 0px 1px 2px rgba(60, 64, 67, 0.3), 0px 1px 3px 1px rgba(60, 64, 67, 0.15);\n",
              "      fill: #174EA6;\n",
              "    }\n",
              "\n",
              "    .colab-df-buttons div {\n",
              "      margin-bottom: 4px;\n",
              "    }\n",
              "\n",
              "    [theme=dark] .colab-df-convert {\n",
              "      background-color: #3B4455;\n",
              "      fill: #D2E3FC;\n",
              "    }\n",
              "\n",
              "    [theme=dark] .colab-df-convert:hover {\n",
              "      background-color: #434B5C;\n",
              "      box-shadow: 0px 1px 3px 1px rgba(0, 0, 0, 0.15);\n",
              "      filter: drop-shadow(0px 1px 2px rgba(0, 0, 0, 0.3));\n",
              "      fill: #FFFFFF;\n",
              "    }\n",
              "  </style>\n",
              "\n",
              "    <script>\n",
              "      const buttonEl =\n",
              "        document.querySelector('#df-de27d6bd-8277-419b-ae6f-dbcd8a74893d button.colab-df-convert');\n",
              "      buttonEl.style.display =\n",
              "        google.colab.kernel.accessAllowed ? 'block' : 'none';\n",
              "\n",
              "      async function convertToInteractive(key) {\n",
              "        const element = document.querySelector('#df-de27d6bd-8277-419b-ae6f-dbcd8a74893d');\n",
              "        const dataTable =\n",
              "          await google.colab.kernel.invokeFunction('convertToInteractive',\n",
              "                                                    [key], {});\n",
              "        if (!dataTable) return;\n",
              "\n",
              "        const docLinkHtml = 'Like what you see? Visit the ' +\n",
              "          '<a target=\"_blank\" href=https://colab.research.google.com/notebooks/data_table.ipynb>data table notebook</a>'\n",
              "          + ' to learn more about interactive tables.';\n",
              "        element.innerHTML = '';\n",
              "        dataTable['output_type'] = 'display_data';\n",
              "        await google.colab.output.renderOutput(dataTable, element);\n",
              "        const docLink = document.createElement('div');\n",
              "        docLink.innerHTML = docLinkHtml;\n",
              "        element.appendChild(docLink);\n",
              "      }\n",
              "    </script>\n",
              "  </div>\n",
              "\n",
              "\n",
              "<div id=\"df-1c07d867-c75f-47e8-af4b-0f0207aa2010\">\n",
              "  <button class=\"colab-df-quickchart\" onclick=\"quickchart('df-1c07d867-c75f-47e8-af4b-0f0207aa2010')\"\n",
              "            title=\"Suggest charts\"\n",
              "            style=\"display:none;\">\n",
              "\n",
              "<svg xmlns=\"http://www.w3.org/2000/svg\" height=\"24px\"viewBox=\"0 0 24 24\"\n",
              "     width=\"24px\">\n",
              "    <g>\n",
              "        <path d=\"M19 3H5c-1.1 0-2 .9-2 2v14c0 1.1.9 2 2 2h14c1.1 0 2-.9 2-2V5c0-1.1-.9-2-2-2zM9 17H7v-7h2v7zm4 0h-2V7h2v10zm4 0h-2v-4h2v4z\"/>\n",
              "    </g>\n",
              "</svg>\n",
              "  </button>\n",
              "\n",
              "<style>\n",
              "  .colab-df-quickchart {\n",
              "      --bg-color: #E8F0FE;\n",
              "      --fill-color: #1967D2;\n",
              "      --hover-bg-color: #E2EBFA;\n",
              "      --hover-fill-color: #174EA6;\n",
              "      --disabled-fill-color: #AAA;\n",
              "      --disabled-bg-color: #DDD;\n",
              "  }\n",
              "\n",
              "  [theme=dark] .colab-df-quickchart {\n",
              "      --bg-color: #3B4455;\n",
              "      --fill-color: #D2E3FC;\n",
              "      --hover-bg-color: #434B5C;\n",
              "      --hover-fill-color: #FFFFFF;\n",
              "      --disabled-bg-color: #3B4455;\n",
              "      --disabled-fill-color: #666;\n",
              "  }\n",
              "\n",
              "  .colab-df-quickchart {\n",
              "    background-color: var(--bg-color);\n",
              "    border: none;\n",
              "    border-radius: 50%;\n",
              "    cursor: pointer;\n",
              "    display: none;\n",
              "    fill: var(--fill-color);\n",
              "    height: 32px;\n",
              "    padding: 0;\n",
              "    width: 32px;\n",
              "  }\n",
              "\n",
              "  .colab-df-quickchart:hover {\n",
              "    background-color: var(--hover-bg-color);\n",
              "    box-shadow: 0 1px 2px rgba(60, 64, 67, 0.3), 0 1px 3px 1px rgba(60, 64, 67, 0.15);\n",
              "    fill: var(--button-hover-fill-color);\n",
              "  }\n",
              "\n",
              "  .colab-df-quickchart-complete:disabled,\n",
              "  .colab-df-quickchart-complete:disabled:hover {\n",
              "    background-color: var(--disabled-bg-color);\n",
              "    fill: var(--disabled-fill-color);\n",
              "    box-shadow: none;\n",
              "  }\n",
              "\n",
              "  .colab-df-spinner {\n",
              "    border: 2px solid var(--fill-color);\n",
              "    border-color: transparent;\n",
              "    border-bottom-color: var(--fill-color);\n",
              "    animation:\n",
              "      spin 1s steps(1) infinite;\n",
              "  }\n",
              "\n",
              "  @keyframes spin {\n",
              "    0% {\n",
              "      border-color: transparent;\n",
              "      border-bottom-color: var(--fill-color);\n",
              "      border-left-color: var(--fill-color);\n",
              "    }\n",
              "    20% {\n",
              "      border-color: transparent;\n",
              "      border-left-color: var(--fill-color);\n",
              "      border-top-color: var(--fill-color);\n",
              "    }\n",
              "    30% {\n",
              "      border-color: transparent;\n",
              "      border-left-color: var(--fill-color);\n",
              "      border-top-color: var(--fill-color);\n",
              "      border-right-color: var(--fill-color);\n",
              "    }\n",
              "    40% {\n",
              "      border-color: transparent;\n",
              "      border-right-color: var(--fill-color);\n",
              "      border-top-color: var(--fill-color);\n",
              "    }\n",
              "    60% {\n",
              "      border-color: transparent;\n",
              "      border-right-color: var(--fill-color);\n",
              "    }\n",
              "    80% {\n",
              "      border-color: transparent;\n",
              "      border-right-color: var(--fill-color);\n",
              "      border-bottom-color: var(--fill-color);\n",
              "    }\n",
              "    90% {\n",
              "      border-color: transparent;\n",
              "      border-bottom-color: var(--fill-color);\n",
              "    }\n",
              "  }\n",
              "</style>\n",
              "\n",
              "  <script>\n",
              "    async function quickchart(key) {\n",
              "      const quickchartButtonEl =\n",
              "        document.querySelector('#' + key + ' button');\n",
              "      quickchartButtonEl.disabled = true;  // To prevent multiple clicks.\n",
              "      quickchartButtonEl.classList.add('colab-df-spinner');\n",
              "      try {\n",
              "        const charts = await google.colab.kernel.invokeFunction(\n",
              "            'suggestCharts', [key], {});\n",
              "      } catch (error) {\n",
              "        console.error('Error during call to suggestCharts:', error);\n",
              "      }\n",
              "      quickchartButtonEl.classList.remove('colab-df-spinner');\n",
              "      quickchartButtonEl.classList.add('colab-df-quickchart-complete');\n",
              "    }\n",
              "    (() => {\n",
              "      let quickchartButtonEl =\n",
              "        document.querySelector('#df-1c07d867-c75f-47e8-af4b-0f0207aa2010 button');\n",
              "      quickchartButtonEl.style.display =\n",
              "        google.colab.kernel.accessAllowed ? 'block' : 'none';\n",
              "    })();\n",
              "  </script>\n",
              "</div>\n",
              "    </div>\n",
              "  </div>\n"
            ]
          },
          "metadata": {},
          "execution_count": 174
        }
      ]
    },
    {
      "cell_type": "code",
      "source": [
        "from sklearn.model_selection import train_test_split\n",
        "\n",
        "# Selecting features and target variable\n",
        "features = ['Overs', 'Mdns', 'Econ', 'BBI', 'BBM']\n",
        "target = 'Wkts'\n",
        "\n",
        "# Splitting the data into train and test sets\n",
        "X = df[features]\n",
        "y = df[target]\n",
        "\n",
        "X_train, X_test, y_train, y_test = train_test_split(X, y, test_size=0.2, random_state=42)\n"
      ],
      "metadata": {
        "id": "L0JRogxc6qTS"
      },
      "execution_count": 271,
      "outputs": []
    },
    {
      "cell_type": "markdown",
      "source": [
        "##Model building"
      ],
      "metadata": {
        "id": "vEnbS6CQ6qTS"
      }
    },
    {
      "cell_type": "code",
      "source": [
        "from sklearn.metrics import mean_squared_error\n",
        "\n",
        "# Ensuring all NaN values are filled in the feature set\n",
        "X_train = X_train.fillna(X_train.median())\n",
        "X_test = X_test.fillna(X_test.median())\n",
        "\n",
        "# Building and fitting the model\n",
        "model = RandomForestRegressor(n_estimators=100, random_state=42)\n",
        "model.fit(X_train, y_train)\n",
        "\n",
        "# Making predictions and evaluating the model\n",
        "y_pred = model.predict(X_test)\n",
        "mse = mean_squared_error(y_test, y_pred)\n",
        "print(\"Mean Squared Error:\", mse)\n"
      ],
      "metadata": {
        "colab": {
          "base_uri": "https://localhost:8080/"
        },
        "outputId": "5f08e8b5-5fa1-4966-9697-32b944b98797",
        "id": "nBIKenPt6qTT"
      },
      "execution_count": 272,
      "outputs": [
        {
          "output_type": "stream",
          "name": "stdout",
          "text": [
            "Mean Squared Error: 1726.088885526455\n"
          ]
        }
      ]
    },
    {
      "cell_type": "markdown",
      "source": [
        "##Saving model"
      ],
      "metadata": {
        "id": "V9Lvt1To6qTT"
      }
    },
    {
      "cell_type": "code",
      "source": [
        "import pickle\n",
        "\n",
        "# Save the model to a file\n",
        "with open('random_forest_model.pkl', 'wb') as file:\n",
        "    pickle.dump(model, file)\n",
        "\n",
        "# Save the label encoders (if they were used in preprocessing)\n",
        "for col, encoder in label_encoders.items():\n",
        "    with open(f'label_encoder_{col}.pkl', 'wb') as file:\n",
        "        pickle.dump(encoder, file)\n",
        "\n",
        "# If there were other preprocessing steps whose parameters need to be saved, do that here\n"
      ],
      "metadata": {
        "id": "LlxWiD5M6qTT"
      },
      "execution_count": 283,
      "outputs": []
    },
    {
      "cell_type": "markdown",
      "source": [
        "##Testing model"
      ],
      "metadata": {
        "id": "mPFe8Ao56qTT"
      }
    },
    {
      "cell_type": "code",
      "source": [
        "X_test.shape"
      ],
      "metadata": {
        "colab": {
          "base_uri": "https://localhost:8080/"
        },
        "outputId": "0628864e-7941-41f0-f421-e0bcb02634ad",
        "id": "0-OCay9e6qTU"
      },
      "execution_count": 284,
      "outputs": [
        {
          "output_type": "execute_result",
          "data": {
            "text/plain": [
              "(2109, 5)"
            ]
          },
          "metadata": {},
          "execution_count": 284
        }
      ]
    },
    {
      "cell_type": "code",
      "source": [
        "X_new = pd.DataFrame(X_test)\n",
        "\n",
        "X_new.fillna(X_new.median(), inplace=True)\n",
        "\n",
        "# Loading model\n",
        "with open('random_forest_model.pkl', 'rb') as file:\n",
        "    loaded_model = pickle.load(file)\n",
        "\n",
        "# Making predictions\n",
        "predicted_bowler = loaded_model.predict(X_new)\n",
        "\n",
        "# The predicted_bowler array now contains the predicted High Score for each row in X_new\n",
        "print(predicted_bowler)\n"
      ],
      "metadata": {
        "colab": {
          "base_uri": "https://localhost:8080/"
        },
        "outputId": "70c9d763-66ef-4001-e205-7935fb050169",
        "id": "XyOy4DHL6qTU"
      },
      "execution_count": 285,
      "outputs": [
        {
          "output_type": "stream",
          "name": "stdout",
          "text": [
            "[   0.   1675.28    0.   ...    0.      0.     75.84]\n"
          ]
        }
      ]
    },
    {
      "cell_type": "code",
      "source": [
        "max_bowler = max(list(predicted_bowler))\n",
        "print(max_bowler)"
      ],
      "metadata": {
        "colab": {
          "base_uri": "https://localhost:8080/"
        },
        "outputId": "82d743e4-cf8d-4a63-94d8-00f2486f5080",
        "id": "Y22SEyL46qTV"
      },
      "execution_count": 286,
      "outputs": [
        {
          "output_type": "stream",
          "name": "stdout",
          "text": [
            "11566.51\n"
          ]
        }
      ]
    },
    {
      "cell_type": "code",
      "source": [
        "score_cent = list(predicted_bowler)\n",
        "print('Index of the predicted leading wicket taker is :', score_cent.index(11566.51))   # code to get batsman index"
      ],
      "metadata": {
        "colab": {
          "base_uri": "https://localhost:8080/"
        },
        "outputId": "d94a2a1d-ba22-4558-c1de-85e76080d51f",
        "id": "yHKwGhnf6qTV"
      },
      "execution_count": 287,
      "outputs": [
        {
          "output_type": "stream",
          "name": "stdout",
          "text": [
            "Index of the predicted leading wicket taker is : 976\n"
          ]
        }
      ]
    },
    {
      "cell_type": "code",
      "source": [
        "index_to_find = 976         # Replace with your actual index\n",
        "bowler_id = df.iloc[index_to_find]['Id']\n",
        "print(f\"ID of the bowler predicted to take highest number of wicket is {bowler_id}\")"
      ],
      "metadata": {
        "colab": {
          "base_uri": "https://localhost:8080/"
        },
        "outputId": "a3722965-c778-4b95-b282-1ddf07ec7398",
        "id": "LD0l0Yet6qTV"
      },
      "execution_count": 288,
      "outputs": [
        {
          "output_type": "stream",
          "name": "stdout",
          "text": [
            "ID of the bowler predicted to take highest number of wicket is rachin ravindra \n"
          ]
        }
      ]
    }
  ]
}